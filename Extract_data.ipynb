{
 "cells": [
  {
   "cell_type": "markdown",
   "id": "16585b7e-8827-44d6-8e86-368be7fbc487",
   "metadata": {},
   "source": [
    "## Sistema de extração de dados\n"
   ]
  },
  {
   "cell_type": "code",
   "execution_count": 4,
   "id": "33096869-7f56-4a14-9834-a4208ed0ce7a",
   "metadata": {},
   "outputs": [
    {
     "name": "stdout",
     "output_type": "stream",
     "text": [
      "Defaulting to user installation because normal site-packages is not writeable\n",
      "Requirement already satisfied: pandas in /usr/local/lib/python3.10/dist-packages (2.2.1)\n",
      "Requirement already satisfied: pytz>=2020.1 in /usr/lib/python3/dist-packages (from pandas) (2022.1)\n",
      "Requirement already satisfied: tzdata>=2022.7 in /usr/local/lib/python3.10/dist-packages (from pandas) (2024.1)\n",
      "Requirement already satisfied: numpy<2,>=1.22.4 in /usr/local/lib/python3.10/dist-packages (from pandas) (1.26.4)\n",
      "Requirement already satisfied: python-dateutil>=2.8.2 in /usr/local/lib/python3.10/dist-packages (from pandas) (2.8.2)\n",
      "Requirement already satisfied: six>=1.5 in /usr/lib/python3/dist-packages (from python-dateutil>=2.8.2->pandas) (1.16.0)\n"
     ]
    }
   ],
   "source": [
    "! pip install pandas"
   ]
  },
  {
   "cell_type": "code",
   "execution_count": 1,
   "id": "9b1af26d-3f92-4069-8794-13d122d84ac0",
   "metadata": {},
   "outputs": [
    {
     "name": "stdout",
     "output_type": "stream",
     "text": [
      "Defaulting to user installation because normal site-packages is not writeable\n",
      "Requirement already satisfied: requests in /usr/local/lib/python3.10/dist-packages (2.31.0)\n",
      "Requirement already satisfied: charset-normalizer<4,>=2 in /usr/local/lib/python3.10/dist-packages (from requests) (3.3.2)\n",
      "Requirement already satisfied: urllib3<3,>=1.21.1 in /usr/lib/python3/dist-packages (from requests) (1.26.5)\n",
      "Requirement already satisfied: idna<4,>=2.5 in /usr/lib/python3/dist-packages (from requests) (3.3)\n",
      "Requirement already satisfied: certifi>=2017.4.17 in /home/msus/.local/lib/python3.10/site-packages (from requests) (2024.6.2)\n"
     ]
    }
   ],
   "source": [
    "!pip install requests\n"
   ]
  },
  {
   "cell_type": "code",
   "execution_count": 2,
   "id": "e2acc5b7-2b1d-4835-849e-677be0cc0fbb",
   "metadata": {},
   "outputs": [
    {
     "name": "stdout",
     "output_type": "stream",
     "text": [
      "Defaulting to user installation because normal site-packages is not writeable\n",
      "Requirement already satisfied: beautifulsoup4 in /usr/local/lib/python3.10/dist-packages (4.12.3)\n",
      "Requirement already satisfied: soupsieve>1.2 in /usr/local/lib/python3.10/dist-packages (from beautifulsoup4) (2.5)\n"
     ]
    }
   ],
   "source": [
    "!pip install beautifulsoup4"
   ]
  },
  {
   "cell_type": "code",
   "execution_count": 5,
   "id": "3fa2dd17-0c1a-4f4d-9c86-5ff9cba1a8a5",
   "metadata": {},
   "outputs": [],
   "source": [
    "import requests\n",
    "from bs4 import BeautifulSoup\n",
    "import pandas as pd\n"
   ]
  },
  {
   "cell_type": "code",
   "execution_count": 12,
   "id": "9ebbc4e2-f5f5-4ec1-812c-385c0f1c88f3",
   "metadata": {},
   "outputs": [],
   "source": [
    "url  = 'https://www.in.gov.br/en/web/dou/-/portaria-n-3.256-de-2-de-dezembro-de-2020-291827559'\n",
    "resposta = requests.get(url)"
   ]
  },
  {
   "cell_type": "code",
   "execution_count": 13,
   "id": "6b956792-0907-4562-9ee7-5cf5e190754c",
   "metadata": {},
   "outputs": [
    {
     "name": "stdout",
     "output_type": "stream",
     "text": [
      "Requisição ok\n"
     ]
    }
   ],
   "source": [
    "if resposta.status_code == 200:\n",
    "    print(\"Requisição ok\")\n",
    "else: \n",
    "    print (f\"Erro na requisição: {resposta.status_code}\")"
   ]
  },
  {
   "cell_type": "code",
   "execution_count": 15,
   "id": "5fbba465-403f-4c7d-86ba-0e4a5d391c45",
   "metadata": {},
   "outputs": [],
   "source": [
    "soup = BeautifulSoup(resposta.content, \"html.parser\")"
   ]
  },
  {
   "cell_type": "code",
   "execution_count": 20,
   "id": "e681ce3f-d037-4dcc-8b14-40c2a1d91daa",
   "metadata": {},
   "outputs": [],
   "source": [
    "titulo = soup.title.string"
   ]
  },
  {
   "cell_type": "code",
   "execution_count": 21,
   "id": "5b274f6e-8aea-4674-9d3f-cae1993e2c9b",
   "metadata": {},
   "outputs": [
    {
     "data": {
      "text/plain": [
       "'PORTARIA Nº 3.256, DE 2 DE DEZEMBRO DE 2020 - PORTARIA Nº 3.256, DE 2 DE DEZEMBRO DE 2020 - DOU - Imprensa Nacional'"
      ]
     },
     "execution_count": 21,
     "metadata": {},
     "output_type": "execute_result"
    }
   ],
   "source": [
    "titulo"
   ]
  },
  {
   "cell_type": "code",
   "execution_count": 22,
   "id": "3ed126f0-f561-43df-826c-7e7c5f04ca7b",
   "metadata": {},
   "outputs": [],
   "source": [
    "links = soup.find_all('a')"
   ]
  },
  {
   "cell_type": "code",
   "execution_count": 28,
   "id": "b52980ef-8ea2-4a83-a446-ae67d78e10d1",
   "metadata": {},
   "outputs": [
    {
     "data": {
      "text/plain": [
       "'mailto:?subject=Diário Oficial da União: PORTARIA Nº 3.256, DE 2 DE DEZEMBRO DE 2020&body=Portaria:  Habilita leitos de Suporte Ventilatório Pulmonar para atendimento exclusivo dos pacientes da COVID-19 e estabelece recurso financeiro do Bloco de Manutenção das Ações e Serviços Públicos de Saúde - Grupo Coronavírus (COVID 19), a ser disponibilizado ao Estado de São Paulo e Municípios.%0D%0A%0D%0Ahttps://www.in.gov.br/en/web/dou/-/portaria-n-3.256-de-2-de-dezembro-de-2020-291827559'"
      ]
     },
     "execution_count": 28,
     "metadata": {},
     "output_type": "execute_result"
    }
   ],
   "source": [
    "links[40].get(\"href\")"
   ]
  },
  {
   "cell_type": "code",
   "execution_count": 29,
   "id": "9ee2e839-5618-478a-8944-fcd5ffd51a95",
   "metadata": {},
   "outputs": [],
   "source": [
    "paragrafos = soup.find_all('p')"
   ]
  },
  {
   "cell_type": "code",
   "execution_count": 36,
   "id": "aa6d00d2-38a2-4b5f-815c-677be740b294",
   "metadata": {},
   "outputs": [
    {
     "data": {
      "text/plain": [
       "<p class=\"dou-paragraph\">Art. 1º Ficam habilitados leitos de Suporte Ventilatório Pulmonar para atendimento exclusivo dos pacientes da COVID-19, dos estabelecimentos descritos no Anexo a esta Portaria.</p>"
      ]
     },
     "execution_count": 36,
     "metadata": {},
     "output_type": "execute_result"
    }
   ],
   "source": [
    "paragrafos[11]"
   ]
  },
  {
   "cell_type": "code",
   "execution_count": 37,
   "id": "ed85cb6a-efeb-40e9-9db4-1f440e157164",
   "metadata": {},
   "outputs": [],
   "source": [
    "ementa = soup.select('.ementa')"
   ]
  },
  {
   "cell_type": "code",
   "execution_count": 42,
   "id": "150e5b37-4d41-4491-a2ce-bfa52badccb1",
   "metadata": {},
   "outputs": [
    {
     "data": {
      "text/plain": [
       "'Habilita leitos de Suporte Ventilatório Pulmonar para atendimento exclusivo dos pacientes da COVID-19 e estabelece recurso financeiro do Bloco de Manutenção das Ações e Serviços Públicos de Saúde - Grupo Coronavírus (COVID 19), a ser disponibilizado ao Estado de São Paulo e Municípios.'"
      ]
     },
     "execution_count": 42,
     "metadata": {},
     "output_type": "execute_result"
    }
   ],
   "source": [
    "ementa[0].text"
   ]
  },
  {
   "cell_type": "code",
   "execution_count": 43,
   "id": "e46b26eb-1310-4852-825d-93c2dd06530c",
   "metadata": {},
   "outputs": [],
   "source": [
    "paragrafos_dou = soup.select('.dou-paragraph')"
   ]
  },
  {
   "cell_type": "code",
   "execution_count": 44,
   "id": "8bfeb57a-c8dd-4107-826e-b035f7f90000",
   "metadata": {},
   "outputs": [
    {
     "data": {
      "text/plain": [
       "[<p class=\"dou-paragraph\">O MINISTRO DE ESTADO DA SAÚDE, no uso das atribuições que lhe conferem os incisos I e II do parágrafo único do art. 87 da Constituição, e</p>,\n",
       " <p class=\"dou-paragraph\">Considerando a Lei nº 13.979, de 6 de fevereiro de 2020, que dispõe sobre as medidas para enfrentamento da emergência de saúde pública de importância internacional decorrente do Coronavírus (COVID-19) responsável pelo surto de 2019;</p>,\n",
       " <p class=\"dou-paragraph\">Considerando a Portaria GM/MS nº 828, de 17 de abril de 2020, que altera a Portaria de Consolidação nº 6/GM/MS, de 28 de setembro de 2017, para dispor sobre os Grupos de Identificação Transferências federais de recursos da saúde;</p>,\n",
       " <p class=\"dou-paragraph\">Considerando a Portaria SAES/MS nº 510, de 16 de junho de 2020, que inclui leito e habilitação de Suporte Ventilatório Pulmonar no CNES e procedimentos de diárias na Tabela de Procedimentos, Medicamentos, Órteses, Próteses e Materiais Especiais do SUS, para atendimento exclusivo dos pacientes da COVID-19;</p>,\n",
       " <p class=\"dou-paragraph\">Considerando a Portaria GM/MS nº 1.862, de 29 de julho de 2020, que altera a Portaria GM/MS nº 1.521, de 15 de junho de 2020, que autoriza a habilitação de leitos de Suporte Ventilatório Pulmonar, para atendimento exclusivo dos pacientes da COVID-19;</p>,\n",
       " <p class=\"dou-paragraph\">Considerando a Portaria GM/MS nº 1.863, de 29 de julho de 2020, que altera a Portaria GM/MS nº 1.514, de 15 de junho de 2020, que define os critérios técnicos para a implantação de Unidade de Saúde Temporária para assistência hospitalar - HOSPITAL DE CAMPANHA - voltadas para os atendimentos aos pacientes no âmbito da emergência pela pandemia da COVID-19; e</p>,\n",
       " <p class=\"dou-paragraph\">Considerando a correspondente avaliação pela Coordenação-Geral de Atenção Hospitalar e Domiciliar - Departamento de Atenção Hospitalar, Domiciliar e de Urgência - CGAHD/DAHU/SAES/MS, constante no NUP-SEI nº 25000.164965/2020-11, resolve:</p>,\n",
       " <p class=\"dou-paragraph\">Art. 1º Ficam habilitados leitos de Suporte Ventilatório Pulmonar para atendimento exclusivo dos pacientes da COVID-19, dos estabelecimentos descritos no Anexo a esta Portaria.</p>,\n",
       " <p class=\"dou-paragraph\">Parágrafo único. O custeio referente à diária das habilitações dos leitos de Suporte Ventilatório Pulmonar será transferido fundo a fundo em parcela única, no valor correspondente a 30 (trinta) dias, observado o disposto na Portaria nº 1.862/GM/MS, de 29 de julho de 2020, podendo ser prorrogado, por igual período, a depender da situação de emergência de saúde pública de importância internacional decorrente da COVID-19.</p>,\n",
       " <p class=\"dou-paragraph\">Art. 2º Fica estabelecido recurso financeiro do Bloco de Manutenção das Ações e Serviços Públicos de Saúde - Grupo Coronavírus (COVID 19), a ser disponibilizado ao Estado de São Paulo e Municípios, em parcela única, no montante de R$ 1.077.120,00 (um milhão, setenta e sete mil e cento e vinte reais), conforme Anexo.</p>,\n",
       " <p class=\"dou-paragraph\">Parágrafo único. O recurso disponibilizado no caput equivale ao período de 30 (trinta) dias.</p>,\n",
       " <p class=\"dou-paragraph\">Art. 3º O Fundo Nacional de Saúde adotará as medidas necessárias para a transferência, do montante estabelecido no art. 2º, aos Fundos Estadual e Municipais de Saúde, em parcela única, mediante processo autorizativo encaminhado pela Secretaria de Atenção Especializada à Saúde, conforme anexo.</p>,\n",
       " <p class=\"dou-paragraph\">Art. 4º O recurso orçamentário, objeto desta Portaria, correrá por conta do orçamento do Ministério da Saúde, devendo onerar o Programa de Trabalho 10.122.5018.21C0.6500 - Enfrentamento da Emergência de Saúde Pública de Importância Internacional Decorrente do Coronavírus - Plano Orçamentário CV70 - Medida Provisória nº 967, de 19 de maio de 2020.</p>,\n",
       " <p class=\"dou-paragraph\">Art. 5º Esta Portaria entra em vigor na data de sua publicação.</p>,\n",
       " <p class=\"dou-paragraph\"></p>,\n",
       " <p class=\"dou-paragraph\"></p>,\n",
       " <p class=\"dou-paragraph\">UF</p>,\n",
       " <p class=\"dou-paragraph\">IBGE</p>,\n",
       " <p class=\"dou-paragraph\">MUNICÍPIO</p>,\n",
       " <p class=\"dou-paragraph\">ESTABELECIMENTO</p>,\n",
       " <p class=\"dou-paragraph\">CNES</p>,\n",
       " <p class=\"dou-paragraph\">GESTÃO</p>,\n",
       " <p class=\"dou-paragraph\">Nº PROPOSTA SAIPS</p>,\n",
       " <p class=\"dou-paragraph\">CÓDIGO E DESCRIÇÃO DA HABILITAÇÃO</p>,\n",
       " <p class=\"dou-paragraph\">Nº DE LEITOS NOVOS</p>,\n",
       " <p class=\"dou-paragraph\">TOTAL DE Nº LEITOS</p>,\n",
       " <p class=\"dou-paragraph\">VALOR</p>,\n",
       " <p class=\"dou-paragraph\">SP</p>,\n",
       " <p class=\"dou-paragraph\">350250</p>,\n",
       " <p class=\"dou-paragraph\">APARECIDA</p>,\n",
       " <p class=\"dou-paragraph\">SANTA CASA DE APARECIDA</p>,\n",
       " <p class=\"dou-paragraph\">2083051</p>,\n",
       " <p class=\"dou-paragraph\">ESTADUAL</p>,\n",
       " <p class=\"dou-paragraph\">132372</p>,\n",
       " <p class=\"dou-paragraph\">28.06 - LEITOS DE SUPORTE VENTILATÓRIO PULMONAR - COVID-19</p>,\n",
       " <p class=\"dou-paragraph\">8</p>,\n",
       " <p class=\"dou-paragraph\">8</p>,\n",
       " <p class=\"dou-paragraph\">114.892,80</p>,\n",
       " <p class=\"dou-paragraph\">SP</p>,\n",
       " <p class=\"dou-paragraph\">350570</p>,\n",
       " <p class=\"dou-paragraph\">BARUERI</p>,\n",
       " <p class=\"dou-paragraph\">HOSPITAL DE CAMPANHA COVID 19 JARDIM PAULISTA</p>,\n",
       " <p class=\"dou-paragraph\">0127604</p>,\n",
       " <p class=\"dou-paragraph\">MUNICIPAL</p>,\n",
       " <p class=\"dou-paragraph\">130314</p>,\n",
       " <p class=\"dou-paragraph\">28.06 - LEITOS DE SUPORTE VENTILATÓRIO PULMONAR - COVID-19</p>,\n",
       " <p class=\"dou-paragraph\">5</p>,\n",
       " <p class=\"dou-paragraph\">5</p>,\n",
       " <p class=\"dou-paragraph\">71.808,00</p>,\n",
       " <p class=\"dou-paragraph\">SP</p>,\n",
       " <p class=\"dou-paragraph\">353780</p>,\n",
       " <p class=\"dou-paragraph\">PIEDADE</p>,\n",
       " <p class=\"dou-paragraph\">SANTA CASA PIEDADE</p>,\n",
       " <p class=\"dou-paragraph\">2083175</p>,\n",
       " <p class=\"dou-paragraph\">MUNICIPAL</p>,\n",
       " <p class=\"dou-paragraph\">128968</p>,\n",
       " <p class=\"dou-paragraph\">28.06 - LEITOS DE SUPORTE VENTILATÓRIO PULMONAR - COVID-19</p>,\n",
       " <p class=\"dou-paragraph\">5</p>,\n",
       " <p class=\"dou-paragraph\">5</p>,\n",
       " <p class=\"dou-paragraph\">71.808,00</p>,\n",
       " <p class=\"dou-paragraph\">SP</p>,\n",
       " <p class=\"dou-paragraph\">354970</p>,\n",
       " <p class=\"dou-paragraph\">SÃO JOSÉ DO RIO PARDO</p>,\n",
       " <p class=\"dou-paragraph\">HOSPITAL SÃO VICENTE</p>,\n",
       " <p class=\"dou-paragraph\">2080923</p>,\n",
       " <p class=\"dou-paragraph\">MUNICIPAL</p>,\n",
       " <p class=\"dou-paragraph\">129821</p>,\n",
       " <p class=\"dou-paragraph\">28.06 - LEITOS DE SUPORTE VENTILATÓRIO PULMONAR - COVID-19</p>,\n",
       " <p class=\"dou-paragraph\">4</p>,\n",
       " <p class=\"dou-paragraph\">4</p>,\n",
       " <p class=\"dou-paragraph\">57.446,40</p>,\n",
       " <p class=\"dou-paragraph\">SP</p>,\n",
       " <p class=\"dou-paragraph\">353440</p>,\n",
       " <p class=\"dou-paragraph\">OSASCO</p>,\n",
       " <p class=\"dou-paragraph\">PS JOSÉ IBRAHIN</p>,\n",
       " <p class=\"dou-paragraph\">7682581</p>,\n",
       " <p class=\"dou-paragraph\">MUNICIPAL</p>,\n",
       " <p class=\"dou-paragraph\">133202</p>,\n",
       " <p class=\"dou-paragraph\">28.06 - LEITOS DE SUPORTE VENTILATÓRIO PULMONAR - COVID-19</p>,\n",
       " <p class=\"dou-paragraph\">30</p>,\n",
       " <p class=\"dou-paragraph\">30</p>,\n",
       " <p class=\"dou-paragraph\">430.848,00</p>,\n",
       " <p class=\"dou-paragraph\">SP</p>,\n",
       " <p class=\"dou-paragraph\">351220</p>,\n",
       " <p class=\"dou-paragraph\">CONCHAL</p>,\n",
       " <p class=\"dou-paragraph\">HOSPITAL E MATERNIDADE MADRE VANNINI CONCHAL SP</p>,\n",
       " <p class=\"dou-paragraph\">2084430</p>,\n",
       " <p class=\"dou-paragraph\">MUNICIPAL</p>,\n",
       " <p class=\"dou-paragraph\">132308</p>,\n",
       " <p class=\"dou-paragraph\">28.06 - LEITOS DE SUPORTE VENTILATÓRIO PULMONAR - COVID-19</p>,\n",
       " <p class=\"dou-paragraph\">3</p>,\n",
       " <p class=\"dou-paragraph\">3</p>,\n",
       " <p class=\"dou-paragraph\">43.084,80</p>,\n",
       " <p class=\"dou-paragraph\">SP</p>,\n",
       " <p class=\"dou-paragraph\">354580</p>,\n",
       " <p class=\"dou-paragraph\">SANTA BÁRBARA D'OESTE</p>,\n",
       " <p class=\"dou-paragraph\">HOSPITAL DE CAMPANHA COVID 19</p>,\n",
       " <p class=\"dou-paragraph\">0174378</p>,\n",
       " <p class=\"dou-paragraph\">MUNICIPAL</p>,\n",
       " <p class=\"dou-paragraph\">132153</p>,\n",
       " <p class=\"dou-paragraph\">28.06 - LEITOS DE SUPORTE VENTILATÓRIO PULMONAR - COVID-19</p>,\n",
       " <p class=\"dou-paragraph\">10</p>,\n",
       " <p class=\"dou-paragraph\">10</p>,\n",
       " <p class=\"dou-paragraph\">143.616,00</p>,\n",
       " <p class=\"dou-paragraph\">SP</p>,\n",
       " <p class=\"dou-paragraph\">352690</p>,\n",
       " <p class=\"dou-paragraph\">LIMEIRA</p>,\n",
       " <p class=\"dou-paragraph\">SOCIEDADE OPERÁRIA HUMANITARIA LIMEIRA</p>,\n",
       " <p class=\"dou-paragraph\">2087103</p>,\n",
       " <p class=\"dou-paragraph\">MUNICIPAL</p>,\n",
       " <p class=\"dou-paragraph\">132202</p>,\n",
       " <p class=\"dou-paragraph\">28.06 - LEITOS DE SUPORTE VENTILATÓRIO PULMONAR - COVID-19</p>,\n",
       " <p class=\"dou-paragraph\">10</p>,\n",
       " <p class=\"dou-paragraph\">10</p>,\n",
       " <p class=\"dou-paragraph\">143.616,00</p>,\n",
       " <p class=\"dou-paragraph\">TOTAL</p>,\n",
       " <p class=\"dou-paragraph\">75</p>,\n",
       " <p class=\"dou-paragraph\">75</p>,\n",
       " <p class=\"dou-paragraph\">R$ 1.077.120,00</p>]"
      ]
     },
     "execution_count": 44,
     "metadata": {},
     "output_type": "execute_result"
    }
   ],
   "source": [
    "paragrafos_dou"
   ]
  },
  {
   "cell_type": "code",
   "execution_count": 45,
   "id": "7b04b7e9-acc5-4685-a8df-a53e7d3fb997",
   "metadata": {},
   "outputs": [],
   "source": [
    "tabela = soup.find('table')"
   ]
  },
  {
   "cell_type": "code",
   "execution_count": 49,
   "id": "2788befc-61f7-4689-b499-fd24784951f3",
   "metadata": {},
   "outputs": [],
   "source": [
    "linhas =  []\n",
    "\n",
    "for tr in tabela.find_all('tr'):\n",
    "    linha= []\n",
    "    for td in tr.find_all('td'):\n",
    "        linha.append(td.text.strip())\n",
    "    linhas.append(linha)\n",
    "        "
   ]
  },
  {
   "cell_type": "code",
   "execution_count": 53,
   "id": "0aa4afd4-554c-4792-a731-01eb98b603c2",
   "metadata": {},
   "outputs": [
    {
     "data": {
      "text/plain": [
       "['UF',\n",
       " 'IBGE',\n",
       " 'MUNICÍPIO',\n",
       " 'ESTABELECIMENTO',\n",
       " 'CNES',\n",
       " 'GESTÃO',\n",
       " 'Nº PROPOSTA SAIPS',\n",
       " 'CÓDIGO E DESCRIÇÃO DA HABILITAÇÃO',\n",
       " 'Nº DE LEITOS NOVOS',\n",
       " 'TOTAL DE Nº LEITOS',\n",
       " 'VALOR']"
      ]
     },
     "execution_count": 53,
     "metadata": {},
     "output_type": "execute_result"
    }
   ],
   "source": [
    "linhas[1]"
   ]
  },
  {
   "cell_type": "code",
   "execution_count": 56,
   "id": "59dae34f-de2d-423e-ae9e-92a27ec02450",
   "metadata": {},
   "outputs": [],
   "source": [
    "cabecalho = linhas[1]"
   ]
  },
  {
   "cell_type": "code",
   "execution_count": 57,
   "id": "339d8660-3069-486f-8792-d977eaed7e8e",
   "metadata": {},
   "outputs": [
    {
     "data": {
      "text/plain": [
       "['UF',\n",
       " 'IBGE',\n",
       " 'MUNICÍPIO',\n",
       " 'ESTABELECIMENTO',\n",
       " 'CNES',\n",
       " 'GESTÃO',\n",
       " 'Nº PROPOSTA SAIPS',\n",
       " 'CÓDIGO E DESCRIÇÃO DA HABILITAÇÃO',\n",
       " 'Nº DE LEITOS NOVOS',\n",
       " 'TOTAL DE Nº LEITOS',\n",
       " 'VALOR']"
      ]
     },
     "execution_count": 57,
     "metadata": {},
     "output_type": "execute_result"
    }
   ],
   "source": [
    "cabecalho"
   ]
  },
  {
   "cell_type": "code",
   "execution_count": 67,
   "id": "afc5f53e-6e46-4594-a2fc-4c1be6ffff99",
   "metadata": {},
   "outputs": [],
   "source": [
    "df = pd.DataFrame(linhas[2:-1], columns= cabecalho)"
   ]
  },
  {
   "cell_type": "code",
   "execution_count": 68,
   "id": "a5e8726e-6fb3-4184-a65c-ee8339ef4ec0",
   "metadata": {},
   "outputs": [
    {
     "data": {
      "text/plain": [
       "(8, 11)"
      ]
     },
     "execution_count": 68,
     "metadata": {},
     "output_type": "execute_result"
    }
   ],
   "source": [
    "df.shape"
   ]
  },
  {
   "cell_type": "code",
   "execution_count": 69,
   "id": "a678c9bc-a3ab-42ca-98f9-f18c4b326ad8",
   "metadata": {},
   "outputs": [
    {
     "data": {
      "text/html": [
       "<div>\n",
       "<style scoped>\n",
       "    .dataframe tbody tr th:only-of-type {\n",
       "        vertical-align: middle;\n",
       "    }\n",
       "\n",
       "    .dataframe tbody tr th {\n",
       "        vertical-align: top;\n",
       "    }\n",
       "\n",
       "    .dataframe thead th {\n",
       "        text-align: right;\n",
       "    }\n",
       "</style>\n",
       "<table border=\"1\" class=\"dataframe\">\n",
       "  <thead>\n",
       "    <tr style=\"text-align: right;\">\n",
       "      <th></th>\n",
       "      <th>UF</th>\n",
       "      <th>IBGE</th>\n",
       "      <th>MUNICÍPIO</th>\n",
       "      <th>ESTABELECIMENTO</th>\n",
       "      <th>CNES</th>\n",
       "      <th>GESTÃO</th>\n",
       "      <th>Nº PROPOSTA SAIPS</th>\n",
       "      <th>CÓDIGO E DESCRIÇÃO DA HABILITAÇÃO</th>\n",
       "      <th>Nº DE LEITOS NOVOS</th>\n",
       "      <th>TOTAL DE Nº LEITOS</th>\n",
       "      <th>VALOR</th>\n",
       "    </tr>\n",
       "  </thead>\n",
       "  <tbody>\n",
       "    <tr>\n",
       "      <th>0</th>\n",
       "      <td>SP</td>\n",
       "      <td>350250</td>\n",
       "      <td>APARECIDA</td>\n",
       "      <td>SANTA CASA DE APARECIDA</td>\n",
       "      <td>2083051</td>\n",
       "      <td>ESTADUAL</td>\n",
       "      <td>132372</td>\n",
       "      <td>28.06 - LEITOS DE SUPORTE VENTILATÓRIO PULMONA...</td>\n",
       "      <td>8</td>\n",
       "      <td>8</td>\n",
       "      <td>114.892,80</td>\n",
       "    </tr>\n",
       "    <tr>\n",
       "      <th>1</th>\n",
       "      <td>SP</td>\n",
       "      <td>350570</td>\n",
       "      <td>BARUERI</td>\n",
       "      <td>HOSPITAL DE CAMPANHA COVID 19 JARDIM PAULISTA</td>\n",
       "      <td>0127604</td>\n",
       "      <td>MUNICIPAL</td>\n",
       "      <td>130314</td>\n",
       "      <td>28.06 - LEITOS DE SUPORTE VENTILATÓRIO PULMONA...</td>\n",
       "      <td>5</td>\n",
       "      <td>5</td>\n",
       "      <td>71.808,00</td>\n",
       "    </tr>\n",
       "    <tr>\n",
       "      <th>2</th>\n",
       "      <td>SP</td>\n",
       "      <td>353780</td>\n",
       "      <td>PIEDADE</td>\n",
       "      <td>SANTA CASA PIEDADE</td>\n",
       "      <td>2083175</td>\n",
       "      <td>MUNICIPAL</td>\n",
       "      <td>128968</td>\n",
       "      <td>28.06 - LEITOS DE SUPORTE VENTILATÓRIO PULMONA...</td>\n",
       "      <td>5</td>\n",
       "      <td>5</td>\n",
       "      <td>71.808,00</td>\n",
       "    </tr>\n",
       "    <tr>\n",
       "      <th>3</th>\n",
       "      <td>SP</td>\n",
       "      <td>354970</td>\n",
       "      <td>SÃO JOSÉ DO RIO PARDO</td>\n",
       "      <td>HOSPITAL SÃO VICENTE</td>\n",
       "      <td>2080923</td>\n",
       "      <td>MUNICIPAL</td>\n",
       "      <td>129821</td>\n",
       "      <td>28.06 - LEITOS DE SUPORTE VENTILATÓRIO PULMONA...</td>\n",
       "      <td>4</td>\n",
       "      <td>4</td>\n",
       "      <td>57.446,40</td>\n",
       "    </tr>\n",
       "    <tr>\n",
       "      <th>4</th>\n",
       "      <td>SP</td>\n",
       "      <td>353440</td>\n",
       "      <td>OSASCO</td>\n",
       "      <td>PS JOSÉ IBRAHIN</td>\n",
       "      <td>7682581</td>\n",
       "      <td>MUNICIPAL</td>\n",
       "      <td>133202</td>\n",
       "      <td>28.06 - LEITOS DE SUPORTE VENTILATÓRIO PULMONA...</td>\n",
       "      <td>30</td>\n",
       "      <td>30</td>\n",
       "      <td>430.848,00</td>\n",
       "    </tr>\n",
       "    <tr>\n",
       "      <th>5</th>\n",
       "      <td>SP</td>\n",
       "      <td>351220</td>\n",
       "      <td>CONCHAL</td>\n",
       "      <td>HOSPITAL E MATERNIDADE MADRE VANNINI CONCHAL SP</td>\n",
       "      <td>2084430</td>\n",
       "      <td>MUNICIPAL</td>\n",
       "      <td>132308</td>\n",
       "      <td>28.06 - LEITOS DE SUPORTE VENTILATÓRIO PULMONA...</td>\n",
       "      <td>3</td>\n",
       "      <td>3</td>\n",
       "      <td>43.084,80</td>\n",
       "    </tr>\n",
       "    <tr>\n",
       "      <th>6</th>\n",
       "      <td>SP</td>\n",
       "      <td>354580</td>\n",
       "      <td>SANTA BÁRBARA D'OESTE</td>\n",
       "      <td>HOSPITAL DE CAMPANHA COVID 19</td>\n",
       "      <td>0174378</td>\n",
       "      <td>MUNICIPAL</td>\n",
       "      <td>132153</td>\n",
       "      <td>28.06 - LEITOS DE SUPORTE VENTILATÓRIO PULMONA...</td>\n",
       "      <td>10</td>\n",
       "      <td>10</td>\n",
       "      <td>143.616,00</td>\n",
       "    </tr>\n",
       "    <tr>\n",
       "      <th>7</th>\n",
       "      <td>SP</td>\n",
       "      <td>352690</td>\n",
       "      <td>LIMEIRA</td>\n",
       "      <td>SOCIEDADE OPERÁRIA HUMANITARIA LIMEIRA</td>\n",
       "      <td>2087103</td>\n",
       "      <td>MUNICIPAL</td>\n",
       "      <td>132202</td>\n",
       "      <td>28.06 - LEITOS DE SUPORTE VENTILATÓRIO PULMONA...</td>\n",
       "      <td>10</td>\n",
       "      <td>10</td>\n",
       "      <td>143.616,00</td>\n",
       "    </tr>\n",
       "  </tbody>\n",
       "</table>\n",
       "</div>"
      ],
      "text/plain": [
       "   UF    IBGE              MUNICÍPIO  \\\n",
       "0  SP  350250              APARECIDA   \n",
       "1  SP  350570                BARUERI   \n",
       "2  SP  353780                PIEDADE   \n",
       "3  SP  354970  SÃO JOSÉ DO RIO PARDO   \n",
       "4  SP  353440                 OSASCO   \n",
       "5  SP  351220                CONCHAL   \n",
       "6  SP  354580  SANTA BÁRBARA D'OESTE   \n",
       "7  SP  352690                LIMEIRA   \n",
       "\n",
       "                                   ESTABELECIMENTO     CNES     GESTÃO  \\\n",
       "0                          SANTA CASA DE APARECIDA  2083051   ESTADUAL   \n",
       "1    HOSPITAL DE CAMPANHA COVID 19 JARDIM PAULISTA  0127604  MUNICIPAL   \n",
       "2                               SANTA CASA PIEDADE  2083175  MUNICIPAL   \n",
       "3                             HOSPITAL SÃO VICENTE  2080923  MUNICIPAL   \n",
       "4                                  PS JOSÉ IBRAHIN  7682581  MUNICIPAL   \n",
       "5  HOSPITAL E MATERNIDADE MADRE VANNINI CONCHAL SP  2084430  MUNICIPAL   \n",
       "6                    HOSPITAL DE CAMPANHA COVID 19  0174378  MUNICIPAL   \n",
       "7           SOCIEDADE OPERÁRIA HUMANITARIA LIMEIRA  2087103  MUNICIPAL   \n",
       "\n",
       "  Nº PROPOSTA SAIPS                  CÓDIGO E DESCRIÇÃO DA HABILITAÇÃO  \\\n",
       "0            132372  28.06 - LEITOS DE SUPORTE VENTILATÓRIO PULMONA...   \n",
       "1            130314  28.06 - LEITOS DE SUPORTE VENTILATÓRIO PULMONA...   \n",
       "2            128968  28.06 - LEITOS DE SUPORTE VENTILATÓRIO PULMONA...   \n",
       "3            129821  28.06 - LEITOS DE SUPORTE VENTILATÓRIO PULMONA...   \n",
       "4            133202  28.06 - LEITOS DE SUPORTE VENTILATÓRIO PULMONA...   \n",
       "5            132308  28.06 - LEITOS DE SUPORTE VENTILATÓRIO PULMONA...   \n",
       "6            132153  28.06 - LEITOS DE SUPORTE VENTILATÓRIO PULMONA...   \n",
       "7            132202  28.06 - LEITOS DE SUPORTE VENTILATÓRIO PULMONA...   \n",
       "\n",
       "  Nº DE LEITOS NOVOS TOTAL DE Nº LEITOS       VALOR  \n",
       "0                  8                  8  114.892,80  \n",
       "1                  5                  5   71.808,00  \n",
       "2                  5                  5   71.808,00  \n",
       "3                  4                  4   57.446,40  \n",
       "4                 30                 30  430.848,00  \n",
       "5                  3                  3   43.084,80  \n",
       "6                 10                 10  143.616,00  \n",
       "7                 10                 10  143.616,00  "
      ]
     },
     "execution_count": 69,
     "metadata": {},
     "output_type": "execute_result"
    }
   ],
   "source": [
    "df"
   ]
  },
  {
   "cell_type": "code",
   "execution_count": null,
   "id": "33cd3abd-1b9d-4d75-a377-2cc6e3e955a7",
   "metadata": {},
   "outputs": [],
   "source": []
  }
 ],
 "metadata": {
  "kernelspec": {
   "display_name": "Python 3 (ipykernel)",
   "language": "python",
   "name": "python3"
  },
  "language_info": {
   "codemirror_mode": {
    "name": "ipython",
    "version": 3
   },
   "file_extension": ".py",
   "mimetype": "text/x-python",
   "name": "python",
   "nbconvert_exporter": "python",
   "pygments_lexer": "ipython3",
   "version": "3.10.12"
  },
  "widgets": {
   "application/vnd.jupyter.widget-state+json": {
    "state": {},
    "version_major": 2,
    "version_minor": 0
   }
  }
 },
 "nbformat": 4,
 "nbformat_minor": 5
}
