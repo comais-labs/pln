{
 "cells": [
  {
   "cell_type": "markdown",
   "id": "08813b09-a0ed-4707-a872-f3cafe9ff051",
   "metadata": {},
   "source": [
    "\n",
    "# Estruturas de dados (1): Vocabulário, Lexemas e armazenamento de Strings\n",
    "\n",
    "Notes: Bem-vindo de volta! Agora que você já teve uma experiência real com a biblioteca spaCy em ação, é hora de aprender um pouco mais sobre o que acontece nos bastidores.\n",
    "\n",
    "Nesta lição, vamos dar uma olhada no vocabulário compartilhado (Vocab) e como a spaCy lida com strings.\n",
    "\n",
    "\n",
    "---\n",
    "\n",
    "# Vocabulário compartilhado e armazenamento de strings (1)\n",
    "\n",
    "- `Vocab`: armazena informações compartilhadas entre diversos documentos\n",
    "- Para economizar memória, a spaCy mapeia as strings em **códigos hash**\n",
    "- Strings são armazenadas apenas uma vez na `StringStore` via `nlp.vocab.strings`\n",
    "- Armazenamento de Strings: **tabelas de consultas** que funcionam em ambos sentidos\n"
   ]
  },
  {
   "cell_type": "code",
   "execution_count": 1,
   "id": "09d08b43-66af-4e4b-97ab-0cc2d189e184",
   "metadata": {},
   "outputs": [],
   "source": [
    "import spacy\n",
    "\n",
    "nlp = spacy.load(\"pt_core_news_md\")\n",
    "\n",
    "nlp.vocab.strings.add(\"café\")\n",
    "\n",
    "coffee_hash = nlp.vocab.strings[\"café\"]\n",
    "\n",
    "coffee_string = nlp.vocab.strings[coffee_hash]"
   ]
  },
  {
   "cell_type": "code",
   "execution_count": 2,
   "id": "49af69b6-e818-45ce-b35a-09e612a7db77",
   "metadata": {},
   "outputs": [
    {
     "data": {
      "text/plain": [
       "32833993555699147"
      ]
     },
     "execution_count": 2,
     "metadata": {},
     "output_type": "execute_result"
    }
   ],
   "source": [
    "nlp.vocab.strings[\"café\"]"
   ]
  },
  {
   "cell_type": "code",
   "execution_count": 3,
   "id": "e6797f16-f3e0-4c8d-b587-ac5e171e4548",
   "metadata": {},
   "outputs": [
    {
     "data": {
      "text/plain": [
       "'café'"
      ]
     },
     "execution_count": 3,
     "metadata": {},
     "output_type": "execute_result"
    }
   ],
   "source": [
    "nlp.vocab.strings[32833993555699147]"
   ]
  },
  {
   "cell_type": "markdown",
   "id": "12abdfba-5667-4b15-87dd-792174323210",
   "metadata": {},
   "source": [
    "- Códigos hash não podem ser revertidos - por isso é preciso sempre prover o vocabulário compartilhado"
   ]
  },
  {
   "cell_type": "code",
   "execution_count": 4,
   "id": "4ced6708-eca6-4336-80db-87b9dbc4a6cc",
   "metadata": {},
   "outputs": [],
   "source": [
    "string = nlp.vocab.strings[3197928453018144401]"
   ]
  },
  {
   "cell_type": "code",
   "execution_count": 5,
   "id": "c9ae1312-cd25-48cf-af32-34fc86e2c427",
   "metadata": {},
   "outputs": [
    {
     "data": {
      "text/plain": [
       "'coffee'"
      ]
     },
     "execution_count": 5,
     "metadata": {},
     "output_type": "execute_result"
    }
   ],
   "source": [
    "string"
   ]
  },
  {
   "cell_type": "markdown",
   "id": "159cb544-832a-4e45-94f1-6c5df22cdd21",
   "metadata": {},
   "source": [
    "Notes: A spaCy armazena todos os dados compartilhados em um vocabulário: o **Vocab**.\n",
    "\n",
    "Ele inclui palavras e também esquemas para marcadores e entidades. \n",
    "\n",
    "Para economizar memória, todas as strings são mapedas em códigos hash. Se uma palavra\n",
    "ocorre mais de uma vez, só é necessário salvá-la uma vez.\n",
    "\n",
    "A spaCy usa uma função hash para gerar um identificador (ID) e armazena a string apenas\n",
    "uma vez. As strings armazenadas estão disponíveis em `nlp.vocab.strings`.\n",
    "\n",
    "Trata-se de uma tabela de consulta que pode ser utilizada nos dois sentidos. Você pode\n",
    "pesquisar uma string e obter o seu código hash, ou pode pesquisar um código hash e obter\n",
    "a string correspondente. Internamente, a spaCy só lida com códigos hash.\n",
    "\n",
    "Mas os códigos hash não podem ser revertidos diretamente. Isso quer dizer que se uma palavra \n",
    "não estiver registrada no vocabulário, não será possível obter sua string. Por isso \n",
    "é sempre necessário fazer o registro no vocabulário compartilhado.\n"
   ]
  },
  {
   "cell_type": "markdown",
   "id": "10b71fc2-74e5-4a3d-b574-4d37b02251f6",
   "metadata": {},
   "source": [
    "# Vocabulário compartilhado e armazenamento de strings (2)"
   ]
  },
  {
   "cell_type": "code",
   "execution_count": 4,
   "id": "e328b8fa-c65c-44da-8a9d-471713a31e31",
   "metadata": {},
   "outputs": [
    {
     "name": "stdout",
     "output_type": "stream",
     "text": [
      "hash value: 32833993555699147\n",
      "string value: café\n"
     ]
    }
   ],
   "source": [
    "doc = nlp(\"Eu amo café\")\n",
    "print(\"hash value:\", nlp.vocab.strings[\"café\"])\n",
    "print(\"string value:\", nlp.vocab.strings[32833993555699147])"
   ]
  },
  {
   "cell_type": "markdown",
   "id": "02394172-918a-4f79-98d2-ef860fd693ae",
   "metadata": {},
   "source": [
    "- O objeto `doc` também expõe o vocabulário compartilhado com as strings e códigos hash"
   ]
  },
  {
   "cell_type": "code",
   "execution_count": 17,
   "id": "a097d03c-412c-4436-b45c-a8dea8597e55",
   "metadata": {},
   "outputs": [
    {
     "name": "stdout",
     "output_type": "stream",
     "text": [
      "hash value: 32833993555699147\n"
     ]
    }
   ],
   "source": [
    "doc = nlp(\"Eu amo café\")\n",
    "print(\"hash value:\", doc.vocab.strings[\"café\"])"
   ]
  },
  {
   "cell_type": "markdown",
   "id": "2353b7ac-9eff-442c-9bbf-46d600167d07",
   "metadata": {},
   "source": [
    "Notes: Para obter o código hash de uma string, podemos fazer a consulta em `nlp.vocab.strings`.\n",
    "\n",
    "Para obter a string que representa um código hash, fazemos a consulta com o hash.\n",
    "\n",
    "O objeto `Doc` também expõe o vocabulário compartilhados e suas strings e códigos hash."
   ]
  },
  {
   "cell_type": "markdown",
   "id": "49e6474c-db06-40a8-9b27-2673303ce67c",
   "metadata": {},
   "source": [
    "# Lexemas: entradas do vocabulário \n",
    "\n",
    "- Um objeto lexema `Lexeme` corresponde a uma entrada do vocabulário."
   ]
  },
  {
   "cell_type": "code",
   "execution_count": 19,
   "id": "6bd27bbe-796f-48ea-a142-40dd8990ca7c",
   "metadata": {},
   "outputs": [
    {
     "name": "stdout",
     "output_type": "stream",
     "text": [
      "café 32833993555699147 True\n"
     ]
    }
   ],
   "source": [
    "doc = nlp(\"Eu amo café\")\n",
    "lexeme = nlp.vocab[\"café\"]\n",
    "print(lexeme.text, lexeme.orth, lexeme.is_alpha)"
   ]
  },
  {
   "cell_type": "markdown",
   "id": "5f27d58e-295a-4046-89bd-8bd059ebb70f",
   "metadata": {},
   "source": [
    "\n",
    "- Contém as informações de cada palavra **independente de contexto** :\n",
    "  - Texto da palavra: `lexeme.text` e `lexeme.orth` (o código hash)\n",
    "  - Atributos léxicos, como por exemplo `lexeme.is_alpha`\n",
    "  - **Não incluem** marcadores que dependem do contexto, como classe gramatical, termo sintático ou entidade.\n",
    "\n",
    "Notes: Lexemas são entradas do vocabulário que independem do contexto.\n",
    "\n",
    "Você obtém um lexema a partir da consulta de uma string ou código hash no vocabulário.\n",
    "\n",
    "Lexemas possuem atributos, assim como os tokens.\n",
    "\n",
    "Eles armazenam informações de uma palavra que são independentes de contexto: texto,\n",
    "se a palavra é composta por apenas caracteres alfabéticos, etc.\n",
    "\n",
    "Lexemas não armazenam marcadores de classe gramatical, termo sintático ou entidade. Estes dependem\n",
    "do contexto no qual a palavra está inserida."
   ]
  },
  {
   "cell_type": "markdown",
   "id": "4e5dfecb-573c-480e-8651-f07a96f64285",
   "metadata": {},
   "source": [
    "# Vocabulário, códigos hash e lexemas"
   ]
  },
  {
   "cell_type": "markdown",
   "id": "36d14acd-9331-4c79-a21c-d9a008c6ba5a",
   "metadata": {},
   "source": [
    "<img src=\"static/vocab_stringstore.png\" width=\"70%\" alt=\"Ilustracao das palavras 'I', 'love' e 'coffee' no Doc, Vocab e StringStore\" />\n"
   ]
  },
  {
   "cell_type": "markdown",
   "id": "aa4e358f-3f21-49b8-b458-245d524a0ca2",
   "metadata": {},
   "source": [
    "Notes: Neste exemplo:\n",
    "\n",
    "O `Doc` contém palavras em seu contexto - neste caso, os tokens \"I\", \"love\" e\n",
    "\"coffee\"- com seus marcadores de classe gramatical e dependência sintática.\n",
    "\n",
    "Cada token está mapeado a um lexema, e também ao código hash da palavra. Para obter\n",
    "a string que representa uma palavra, a spaCy faz a consulta do código hash nas strings \n",
    "armazenadas."
   ]
  },
  {
   "cell_type": "code",
   "execution_count": null,
   "id": "66df76cd-85d6-475f-be4b-3e115a0af42a",
   "metadata": {},
   "outputs": [],
   "source": []
  }
 ],
 "metadata": {
  "kernelspec": {
   "display_name": "Python 3 (ipykernel)",
   "language": "python",
   "name": "python3"
  },
  "language_info": {
   "codemirror_mode": {
    "name": "ipython",
    "version": 3
   },
   "file_extension": ".py",
   "mimetype": "text/x-python",
   "name": "python",
   "nbconvert_exporter": "python",
   "pygments_lexer": "ipython3",
   "version": "3.10.12"
  }
 },
 "nbformat": 4,
 "nbformat_minor": 5
}
