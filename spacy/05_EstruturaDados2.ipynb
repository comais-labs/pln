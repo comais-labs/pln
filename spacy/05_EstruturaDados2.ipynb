{
 "cells": [
  {
   "cell_type": "markdown",
   "id": "dbc607f7-1f0d-45c1-bced-d4238938e035",
   "metadata": {},
   "source": [
    "# Estruturas de dados (2): Doc, partição Span e Token\n",
    "\n",
    "Notes: Agora que você já conhece o vocabulário e o armazenamento das strings, podemos\n",
    "dar uma olhada nas estruturas de dados mais importantes da biblioteca spaCy: o documento `Doc` e \n",
    "as visões `Token` e partição `Span`."
   ]
  },
  {
   "cell_type": "code",
   "execution_count": 1,
   "id": "d8b5a715-639b-448e-a67f-b7e67e1a81bb",
   "metadata": {},
   "outputs": [],
   "source": [
    "# Criar um objeto nlp\n",
    "import spacy\n",
    "nlp = spacy.blank(\"en\")\n",
    "\n",
    "# Importar a classe Doc \n",
    "from spacy.tokens import Doc\n",
    "\n",
    "# As palavras e espaços em branco necessários para criar um doc:\n",
    "words = [\"Hello\", \"world\", \"!\"]\n",
    "spaces = [True, False, False]\n",
    "\n",
    "# Criar um doc manualmente\n",
    "doc = Doc(nlp.vocab, words=words, spaces=spaces)"
   ]
  },
  {
   "cell_type": "markdown",
   "id": "a479ad2b-da16-4563-b58b-04b8942e867e",
   "metadata": {},
   "source": [
    "\n",
    "Notes: O objeto `Doc` é uma das estruturas de dados centrais da spaCy.\n",
    "Ele é criado automaticamente quando você processa um texto com o objeto \n",
    "`nlp`. Mas você também pode instanciar o objeto manualmente.\n",
    "Após criar o objeto `nlp`, podemos importar a classe `Doc` a partir de\n",
    "`spacy.tokens`.\n",
    "\n",
    "Aqui estamos criando um doc a partir de três palavras. Os espaços em branco\n",
    "são representados por uma lista de valores boleanos que indicam se a palavra\n",
    "é seguida por um espaço em branco ou não. Todos os tokens incluem essa informação, \n",
    "inclusive o último!\n",
    "\n",
    "O objeto `Doc` tem três parâmetros: o vocabulário compartilhado, as palavras e os\n",
    "espaços em branco."
   ]
  },
  {
   "cell_type": "markdown",
   "id": "1ae0a10c-ccc5-4708-abbd-f25cb68c7d35",
   "metadata": {},
   "source": [
    "\n",
    "# O objeto partição Span (1)\n"
   ]
  },
  {
   "cell_type": "markdown",
   "id": "fba6642c-fa1e-46b9-9540-04beed07367b",
   "metadata": {},
   "source": [
    "<img src=\"static/span_indices.png\" width=\"65%\" alt=\"Ilustracao de um objeto Span em um Doc com indices dos tokens\" />"
   ]
  },
  {
   "cell_type": "markdown",
   "id": "780e4141-dcd5-4978-b4ee-007ea64aaf05",
   "metadata": {},
   "source": [
    "Notes: Um objeto `Span` é uma partição do documento consistindo de um ou mais tokens.\n",
    "Ele necessita de pelo menos três parâmetros: o doc ao qual a partição se refere,\n",
    "os índices do início e do fim da partição. Lembre-se que o índice final não é\n",
    "incluído na partição!"
   ]
  },
  {
   "cell_type": "markdown",
   "id": "54322287-3e44-4e13-b407-3da70828b6b5",
   "metadata": {},
   "source": [
    "# O objeto partição Span (2)"
   ]
  },
  {
   "cell_type": "code",
   "execution_count": 4,
   "id": "cd07fda9-b0e0-40ee-9b85-735f2dfdd57b",
   "metadata": {},
   "outputs": [],
   "source": [
    "# Importar as classes Doc e Span\n",
    "from spacy.tokens import Doc, Span\n",
    "\n",
    "# As palavras e espaços em branco necessários para criar o doc\n",
    "words = [\"Hello\", \"world\", \"!\"]\n",
    "spaces = [True, False, False]\n",
    "\n",
    "# Criar um doc manualmente \n",
    "doc = Doc(nlp.vocab, words=words, spaces=spaces)\n",
    "\n",
    "# Criar uma particção span manualmente\n",
    "span = Span(doc, 0, 2)\n",
    "\n",
    "# Criar uma partição span com um marcador\n",
    "span_with_label = Span(doc, 0, 2, label=\"GREETING\")\n",
    "\n",
    "# Adicionar a partição a doc.ents\n",
    "doc.ents = [span_with_label]"
   ]
  },
  {
   "cell_type": "markdown",
   "id": "13e3427d-d23f-4595-8d7d-c50e527f297f",
   "metadata": {},
   "source": [
    "Notes: Também é possível criar uma partição `Span` manualmente a partir da \n",
    "importação da classe `spacy.tokens`. Em seguida, deve-se instanciar o objeto\n",
    "com o doc e os índices de início e fim da partição, e opcionalmente um marcador.\n",
    "\n",
    "O atributo `doc.ents` pode ser atualizado, sendo possível adicionar manualmente\n",
    "novas entidades a partir de uma lista de partições."
   ]
  },
  {
   "cell_type": "markdown",
   "id": "7a27195f-b772-4239-8f88-6b90436334b5",
   "metadata": {},
   "source": [
    "# Melhores práticas"
   ]
  },
  {
   "cell_type": "markdown",
   "id": "a4aa1d75-8716-4505-ab64-4b01cf9aec77",
   "metadata": {},
   "source": [
    "- `Doc` e `Span` são recursos bastante poderosos e armazenam referências e relações\n",
    "entre palavras e sentenças:\n",
    "  - **Converta os resultados para strings o mais tarde possível**\n",
    "  - **Use os atributos dos tokens, se estiverem disponíveis.** – por exemplo: `token.i` para o\n",
    "  índice do token\n",
    "- Não se esqueça de passar o parâmetro do vocabulário compartilhado `vocab`\n",
    "\n",
    "Notes: Algumas dicas e segredos antes de começar:\n",
    "\n",
    "Os objetos `Doc` e `Span` são bastante poderosos e e foram otimizados para melhor performance.\n",
    "Eles te dão acesso a todas as referências e relações entre as palavras e as sentenças.\n",
    "\n",
    "Se sua aplicação necessita de saídas em texto (strings), faça as conversões\n",
    "para texto o mais tarde possível. Se você fizer isso muito cedo, você \n",
    "corre o risco de perder todas as relações entre os tokens.\n",
    "\n",
    "Para que seu projeto seja consistente, use os atributos dos tokens já existentes sempre\n",
    "que possível.\n",
    "\n",
    "E também é preciso passar o vocabulário compartilhado como parâmetro, sempre!"
   ]
  },
  {
   "cell_type": "code",
   "execution_count": null,
   "id": "73996830-5251-40b6-b58f-7cabb42a38a1",
   "metadata": {},
   "outputs": [],
   "source": []
  }
 ],
 "metadata": {
  "kernelspec": {
   "display_name": "Python 3 (ipykernel)",
   "language": "python",
   "name": "python3"
  },
  "language_info": {
   "codemirror_mode": {
    "name": "ipython",
    "version": 3
   },
   "file_extension": ".py",
   "mimetype": "text/x-python",
   "name": "python",
   "nbconvert_exporter": "python",
   "pygments_lexer": "ipython3",
   "version": "3.10.12"
  }
 },
 "nbformat": 4,
 "nbformat_minor": 5
}
