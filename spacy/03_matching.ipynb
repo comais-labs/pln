{
 "cells": [
  {
   "cell_type": "markdown",
   "id": "92236112-6b99-4f0a-a29f-77d45e64e86b",
   "metadata": {},
   "source": [
    "# Comparador baseado em regras\n",
    "\n",
    "Notes: Nesta lição, vamos dar uma olhada no Comparador (Matcher) da biblioteca spaCy, que permite a criação de regras para encontrar palavras e frases no texto."
   ]
  },
  {
   "cell_type": "markdown",
   "id": "62acd16d-4c1c-41c1-abe6-926d31fcbf97",
   "metadata": {},
   "source": [
    "# Por que usar o Comparador e não somente expressões regulares?\n",
    "\n",
    "- Permite a comparação com objetos `Doc` e não apenas texto (strings)\n",
    "- Permite a comparação com os tokens e seus atributos\n",
    "- Utiliza a previsão de um modelo\n",
    "- Exemplo: \"gentil\" (adjetivo) vs. \"gentil\" (substantivo)\n",
    "\n",
    "Notes: Além de comparar com texto (strings), que é o caso das expressões regulares, o Comparador (Matcher) também analisa os objetos `Doc` e `Token`.\n",
    "\n",
    "Ele é bem mais flexível: você pode fazer a comparação no texto mas também nos seus atributos léxicos.\n",
    "\n",
    "Você pode até criar regras que usam previsões de um modelo.\n",
    "\n",
    "Por exemplo, você pode procurar a palavra \"gentil\"  somente se for um substantivo e não um adjetivo.\n"
   ]
  },
  {
   "cell_type": "code",
   "execution_count": 85,
   "id": "38de2c52-5c23-482d-bd66-54decd589a95",
   "metadata": {},
   "outputs": [],
   "source": [
    "import spacy\n",
    "\n",
    "nlp = spacy.load(\"pt_core_news_md\")"
   ]
  },
  {
   "cell_type": "code",
   "execution_count": 86,
   "id": "be3d132b-6b27-4302-abf4-69173f96eeff",
   "metadata": {},
   "outputs": [],
   "source": [
    "doc = nlp(\"O nome do professor é Gentil\")"
   ]
  },
  {
   "cell_type": "code",
   "execution_count": 87,
   "id": "1d1fe7bc-31a7-4203-b0aa-a7f060b5dd3d",
   "metadata": {},
   "outputs": [
    {
     "name": "stdout",
     "output_type": "stream",
     "text": [
      "O DET\n",
      "nome NOUN\n",
      "do ADP\n",
      "professor NOUN\n",
      "é AUX\n",
      "Gentil PROPN\n"
     ]
    }
   ],
   "source": [
    "for token in doc:\n",
    "    # Imprimir o texto e a classe gramatical prevista\n",
    "    print(token.text, token.pos_)"
   ]
  },
  {
   "cell_type": "code",
   "execution_count": 16,
   "id": "5954ffe9-94b6-49ab-86da-b204546e6ca8",
   "metadata": {},
   "outputs": [],
   "source": [
    "doc = nlp(\"Como é gentil esse professor\")"
   ]
  },
  {
   "cell_type": "code",
   "execution_count": 88,
   "id": "3f8a8859-8f3c-4a86-9019-0ac379887a6e",
   "metadata": {},
   "outputs": [
    {
     "name": "stdout",
     "output_type": "stream",
     "text": [
      "O DET\n",
      "nome NOUN\n",
      "do ADP\n",
      "professor NOUN\n",
      "é AUX\n",
      "Gentil PROPN\n"
     ]
    }
   ],
   "source": [
    "for token in doc:\n",
    "    # Imprimir o texto e a classe gramatical prevista\n",
    "    print(token.text, token.pos_)"
   ]
  },
  {
   "cell_type": "code",
   "execution_count": 13,
   "id": "6809d13c-f1f7-4d8b-9e9b-bff330ab9fff",
   "metadata": {},
   "outputs": [
    {
     "data": {
      "text/plain": [
       "'proper noun'"
      ]
     },
     "execution_count": 13,
     "metadata": {},
     "output_type": "execute_result"
    }
   ],
   "source": [
    "spacy.explain(\"PROPN\")"
   ]
  },
  {
   "cell_type": "markdown",
   "id": "40065261-f9db-4658-b44e-ee034b7d728a",
   "metadata": {},
   "source": [
    "# Expressões de correspondência\n"
   ]
  },
  {
   "cell_type": "markdown",
   "id": "1b258437-1cbe-41b9-8352-5f9072dcfd2c",
   "metadata": {},
   "source": [
    "- Listas de dicionários, uma por token\n",
    "- Corresponde exatamente ao texto de um token:"
   ]
  },
  {
   "cell_type": "code",
   "execution_count": 19,
   "id": "18cd793a-bf65-4ccc-81b5-6c2fe2ed1519",
   "metadata": {},
   "outputs": [
    {
     "data": {
      "text/plain": [
       "[{'TEXT': 'iPhone'}, {'TEXT': 'X'}]"
      ]
     },
     "execution_count": 19,
     "metadata": {},
     "output_type": "execute_result"
    }
   ],
   "source": [
    "[{\"TEXT\": \"iPhone\"}, {\"TEXT\": \"X\"}]"
   ]
  },
  {
   "cell_type": "markdown",
   "id": "e3d990c3-602d-494d-b008-6a49493f964b",
   "metadata": {},
   "source": [
    "- Corresponde a atributos léxicos:"
   ]
  },
  {
   "cell_type": "code",
   "execution_count": 20,
   "id": "8ce2a5df-b6ba-4f1e-a70f-0e539118b628",
   "metadata": {},
   "outputs": [
    {
     "data": {
      "text/plain": [
       "[{'LOWER': 'iphone'}, {'LOWER': 'x'}]"
      ]
     },
     "execution_count": 20,
     "metadata": {},
     "output_type": "execute_result"
    }
   ],
   "source": [
    "[{\"LOWER\": \"iphone\"}, {\"LOWER\": \"x\"}]"
   ]
  },
  {
   "cell_type": "markdown",
   "id": "a9bc45b6-aefc-4607-909b-8544eeb7acdb",
   "metadata": {},
   "source": [
    "- Corresponde a qualquer atributo de um token:"
   ]
  },
  {
   "cell_type": "code",
   "execution_count": 21,
   "id": "d4b5a68b-4dda-456a-a19e-413f3792e5b5",
   "metadata": {},
   "outputs": [
    {
     "data": {
      "text/plain": [
       "[{'LEMMA': 'buy'}, {'POS': 'NOUN'}]"
      ]
     },
     "execution_count": 21,
     "metadata": {},
     "output_type": "execute_result"
    }
   ],
   "source": [
    "[{\"LEMMA\": \"buy\"}, {\"POS\": \"NOUN\"}]"
   ]
  },
  {
   "cell_type": "markdown",
   "id": "403e35f8-b107-4dd8-b77d-e389f47852dc",
   "metadata": {},
   "source": [
    "Notes: As expressões de correspondência são listas de dicionários. Cada dicionário se relaciona a um token. As chaves são os nomes dos atributos dos tokens, mapeadas para os valores esperados.\n",
    "\n",
    "Neste exemplo, estamos procurando por dois tokens com o texto: \"iPhone\" e \"X\".\n",
    "\n",
    "Podemos fazer a correspondência de acordo com outros atributos dos tokens. Neste exemplo estamos procurando dois tokens cuja forma em letras minúsculas corresponda a \"iphone\" e \"x\".\n",
    "\n",
    "Podemos até escrever expressões usando atributos previstos por um modelo. Neste exemplo estamos procurando um token cujo lema seja \"buy\" seguido de um substantivo. O lema é o formato base da palavra."
   ]
  },
  {
   "cell_type": "code",
   "execution_count": 89,
   "id": "3092cdda-81bc-41de-ae6e-da1ab3cdc4dc",
   "metadata": {},
   "outputs": [],
   "source": [
    "import spacy\n",
    "\n",
    "# Importar o Comparador (Matcher)\n",
    "from spacy.matcher import Matcher\n",
    "\n",
    "# Carregar o fluxo (pipeline) de processamento e criar um objeto nlp\n",
    "nlp = spacy.load(\"pt_core_news_md\")\n",
    "\n",
    "# Inicializar o comparador com o vocabulário \n",
    "matcher = Matcher(nlp.vocab)\n",
    "\n",
    "# Adicionar a expressão ao comparador\n",
    "pattern = [{\"TEXT\": \"iPhone\"}, {\"TEXT\": \"X\"}]\n",
    "matcher.add(\"IPHONE_PATTERN\", [pattern])\n",
    "\n",
    "# Processar um texto\n",
    "doc = nlp(\"A data de lançamento do próximo iPhone X vazou\")\n",
    "\n",
    "# Chamar o matcher no doc\n",
    "matches = matcher(doc)"
   ]
  },
  {
   "cell_type": "code",
   "execution_count": 90,
   "id": "6f84d1e2-1754-4f84-a4de-b6a0ccc9f23d",
   "metadata": {},
   "outputs": [
    {
     "data": {
      "text/plain": [
       "[(9528407286733565721, 6, 8)]"
      ]
     },
     "execution_count": 90,
     "metadata": {},
     "output_type": "execute_result"
    }
   ],
   "source": [
    "matches"
   ]
  },
  {
   "cell_type": "markdown",
   "id": "fc6e9626-af4a-4384-8ccc-cd81069918ad",
   "metadata": {},
   "source": [
    "Notes: Para usar uma expressão, devemos importar o comparador `spacy.matcher`.\n",
    "\n",
    "É necessário carregar um fluxo (pipeline) de processamento e criar um objeto `nlp`.\n",
    "\n",
    "O comparador será inicializado com o vocabulário `nlp.vocab`. \n",
    "\n",
    "O método `matcher.add` permite adicionar uma expressão ao comparador. O primeiro argumento é o identificador único da expresssão que terá correspondência no texto. O segundo argumento é uma lista de expressões de correspondência.\n",
    "\n",
    "Para fazer a correspondência de uma expressão em um texto, chame o comparador (matcher) e passe o texto como parâmetro.\n",
    "\n",
    "Ele retornará as correspondências."
   ]
  },
  {
   "cell_type": "markdown",
   "id": "2e0a099f-9d71-4d97-81f7-4852fa551472",
   "metadata": {},
   "source": [
    "# Usando o Comparador (Matcher) (2)"
   ]
  },
  {
   "cell_type": "code",
   "execution_count": 27,
   "id": "68344f40-d322-44ff-bd0a-573c0c4fa986",
   "metadata": {},
   "outputs": [
    {
     "name": "stdout",
     "output_type": "stream",
     "text": [
      "iPhone X\n"
     ]
    }
   ],
   "source": [
    "# Chamar o comparador e passar o texto\n",
    "doc = nlp(\"A data de lançamento do próximo iPhone X vazou\")\n",
    "matches = matcher(doc)\n",
    "\n",
    "# Iterar nas correspondências\n",
    "for match_id, start, end in matches:\n",
    "    # Selecionar a partição que houve correspondência\n",
    "    matched_span = doc[start:end]\n",
    "    print(matched_span.text)"
   ]
  },
  {
   "cell_type": "markdown",
   "id": "5f3095ee-11f5-4c7e-ae57-a0db7b0da217",
   "metadata": {},
   "source": [
    "- `match_id`: código hash da expressão\n",
    "- `start`: índice inicial da partição em que houve correspondência\n",
    "- `end`: índice final da partição em que houve correspondência\n",
    "\n",
    "Notes: Quando você usa o comparador em um documento (doc), ele retorna uma lista de tuplas.\n",
    "\n",
    "Cada tupla consiste em três valores: o ID a expressão, o índice inicial e o índice final da partição em que houve correspondência.\n",
    "\n",
    "Desta forma é possível iterar nas correspondências e criar um objeto partição `Span` : a parte do texto correspondente (do índice inicial até o índice final).\n",
    "\n"
   ]
  },
  {
   "cell_type": "markdown",
   "id": "5362386c-51d9-4c75-9d25-2c0fe575331e",
   "metadata": {},
   "source": [
    "# Expressões com atributos léxicos"
   ]
  },
  {
   "cell_type": "code",
   "execution_count": 92,
   "id": "dc83196a-c9d0-48e4-b822-55e748151cf1",
   "metadata": {},
   "outputs": [],
   "source": [
    "pattern = [\n",
    "    {\"LOWER\": \"copa\"},\n",
    "    {\"LOWER\": \"do\"},\n",
    "    {\"LOWER\": \"mundo\"},\n",
    "    {\"LOWER\": \"fifa\"},\n",
    "    {\"IS_DIGIT\": True},\n",
    "    {\"IS_PUNCT\": True}\n",
    "]"
   ]
  },
  {
   "cell_type": "code",
   "execution_count": 93,
   "id": "c13524dd-86b1-4874-850b-2dc43beced75",
   "metadata": {},
   "outputs": [],
   "source": [
    "doc = nlp(\"Copa do Mundo FIFA 2018: França venceu!\")"
   ]
  },
  {
   "cell_type": "code",
   "execution_count": 94,
   "id": "244cde29-78b1-479b-94d7-eb78fc1dc401",
   "metadata": {},
   "outputs": [],
   "source": [
    "matcher = Matcher(nlp.vocab)\n",
    "\n",
    "# Adicionar a expressão ao comparador\n",
    "matcher.add(\"FIFA_PATTERN\", [pattern])"
   ]
  },
  {
   "cell_type": "code",
   "execution_count": 95,
   "id": "b0ca3534-b3f7-432a-a62a-88c7c4063066",
   "metadata": {},
   "outputs": [],
   "source": [
    "matches = matcher(doc)"
   ]
  },
  {
   "cell_type": "code",
   "execution_count": 98,
   "id": "875938ce-5c0b-4d93-a81c-3971287a9785",
   "metadata": {},
   "outputs": [
    {
     "data": {
      "text/plain": [
       "[(17311505950452258848, 0, 6)]"
      ]
     },
     "execution_count": 98,
     "metadata": {},
     "output_type": "execute_result"
    }
   ],
   "source": [
    "matches"
   ]
  },
  {
   "cell_type": "code",
   "execution_count": 99,
   "id": "f56328d9-20eb-4eb0-8a55-543880e07698",
   "metadata": {},
   "outputs": [
    {
     "name": "stdout",
     "output_type": "stream",
     "text": [
      "Copa do Mundo FIFA 2018:\n"
     ]
    }
   ],
   "source": [
    "for match_id, start, end in matches:\n",
    "    # Selecionar a partição que houve correspondência\n",
    "    matched_span = doc[start:end]\n",
    "    print(matched_span.text)"
   ]
  },
  {
   "cell_type": "markdown",
   "id": "c899c850-1d21-410f-a499-d3db88a61564",
   "metadata": {},
   "source": [
    "# Expressões com outros atributos dos tokens"
   ]
  },
  {
   "cell_type": "code",
   "execution_count": 100,
   "id": "9c822ffb-d33a-49ad-a6f4-1af2d75df430",
   "metadata": {},
   "outputs": [],
   "source": [
    "pattern = [\n",
    "    {\"LEMMA\": \"amar\", \"POS\": \"VERB\"},\n",
    "    {\"POS\": \"NOUN\"}\n",
    "]"
   ]
  },
  {
   "cell_type": "code",
   "execution_count": 101,
   "id": "ee122594-1df6-46c6-878a-d8d54e0ae7b2",
   "metadata": {},
   "outputs": [],
   "source": [
    "doc = nlp(\"Eu amava cachorros, mas agora passei a amar gatos também\")"
   ]
  },
  {
   "cell_type": "code",
   "execution_count": 102,
   "id": "f36a5500-9bd6-4544-afae-c548c8ed2e55",
   "metadata": {},
   "outputs": [
    {
     "name": "stdout",
     "output_type": "stream",
     "text": [
      "amava cachorros\n",
      "amar gatos\n"
     ]
    }
   ],
   "source": [
    "matcher = Matcher(nlp.vocab)\n",
    "# Adicionar a expressão ao comparador\n",
    "matcher.add(\"LOVE_PATTERN\", [pattern])\n",
    "matches = matcher(doc)\n",
    "matches\n",
    "for match_id, start, end in matches:\n",
    "    # Selecionar a partição que houve correspondência\n",
    "    matched_span = doc[start:end]\n",
    "    print(matched_span.text)"
   ]
  },
  {
   "cell_type": "markdown",
   "id": "2fd6581b-e023-43cb-b13c-bf0f959d5e2f",
   "metadata": {},
   "source": [
    "Note: Neste exemplo, estamos procurando por dois tokens:\n",
    "\n",
    "Um verbo com o lema \"amar\", seguido de um substantivo.\n",
    "\n",
    "Esta expressão terá correspondência com \"amava cachorros\" e \"amar gatos\".\n"
   ]
  },
  {
   "cell_type": "markdown",
   "id": "1cf03f6d-c62f-42a2-bde0-6a32c0d0edbe",
   "metadata": {},
   "source": [
    "# Utilizando operadores e quantificadores (1)"
   ]
  },
  {
   "cell_type": "code",
   "execution_count": 103,
   "id": "67f3e30e-c172-4c7e-ad16-fa78e3df7da4",
   "metadata": {},
   "outputs": [],
   "source": [
    "pattern = [\n",
    "    {\"LEMMA\": \"comprar\"},\n",
    "    {\"POS\": \"DET\", \"OP\": \"?\"},  # opcional: corresponde a 0 ou 1 vez\n",
    "    {\"POS\": \"NOUN\"}\n",
    "]"
   ]
  },
  {
   "cell_type": "code",
   "execution_count": 104,
   "id": "ca58a96a-b19c-4b13-a467-a971aaf012e8",
   "metadata": {},
   "outputs": [],
   "source": [
    "doc = nlp(\"estava Comprando um smartphone. Agora estou comprando aplicativos.\")"
   ]
  },
  {
   "cell_type": "code",
   "execution_count": 105,
   "id": "fa985de8-457c-4180-a9b0-dd33dcf5db44",
   "metadata": {},
   "outputs": [
    {
     "name": "stdout",
     "output_type": "stream",
     "text": [
      "Comprando um smartphone\n",
      "comprando aplicativos\n"
     ]
    }
   ],
   "source": [
    "matcher = Matcher(nlp.vocab)\n",
    "# Adicionar a expressão ao comparador\n",
    "matcher.add(\"LOVE_PATTERN\", [pattern])\n",
    "matches = matcher(doc)\n",
    "matches\n",
    "for match_id, start, end in matches:\n",
    "    # Selecionar a partição que houve correspondência\n",
    "    matched_span = doc[start:end]\n",
    "    print(matched_span.text)"
   ]
  },
  {
   "cell_type": "markdown",
   "id": "1fd00d74-97e4-41e8-80e1-e3fc9214e4cb",
   "metadata": {},
   "source": [
    "\n",
    "Notes: Operadores e quantificadores permitem definir quantas vezes deverá haver correspondência com a expressão. Eles podem ser usados com a chave \"OP\".\n",
    "\n",
    "Neste exemplo, o operador \"?\" faz com que a ocorrência seja opcional, então a expressão corresponderá a um token com o lema \"comprar\", um artigo (opcional) e um substantivo.\n"
   ]
  },
  {
   "cell_type": "markdown",
   "id": "efe837d3-0b26-43ca-8829-e408fab0cfbd",
   "metadata": {},
   "source": [
    "\n",
    "# Utilizando operadores e quantificadores (2)\n",
    "\n",
    "| Exemplo       | Descrição                        |\n",
    "| ------------- | ----------------------------     |\n",
    "| `{\"OP\": \"!\"}` | Negação: corresponde 1 vez       |\n",
    "| `{\"OP\": \"?\"}` | Opcional: corresponde 0 ou 1 vez |\n",
    "| `{\"OP\": \"+\"}` | Corresponde 1 ou mais vezes      |\n",
    "| `{\"OP\": \"*\"}` | Corresponde 1 ou mais vezes      |\n",
    "\n",
    "Notes: \"OP\" pode ter um dos quatro valores abaixo:\n",
    "\n",
    "\"!\" nega o valor do token, então corresponde a nenhuma ocorrência.\n",
    "\n",
    "\"?\" faz o token opcional, corresponde a 0 ou 1 ocorrência.\n",
    "\n",
    "\"+\" corresponde ao token uma ou mais ocorrências do token.\n",
    "\n",
    "E \"\\*\" corresponde a zero ou mais ocorrências do token.\n",
    "\n",
    "Os operadores dão poder às suas expressões, mas por outro lado são mais complexos, use-os com sabedoria."
   ]
  },
  {
   "cell_type": "code",
   "execution_count": null,
   "id": "26e51f60-3b93-4e38-8d22-5ab42d8b6237",
   "metadata": {},
   "outputs": [],
   "source": []
  }
 ],
 "metadata": {
  "kernelspec": {
   "display_name": "Python 3 (ipykernel)",
   "language": "python",
   "name": "python3"
  },
  "language_info": {
   "codemirror_mode": {
    "name": "ipython",
    "version": 3
   },
   "file_extension": ".py",
   "mimetype": "text/x-python",
   "name": "python",
   "nbconvert_exporter": "python",
   "pygments_lexer": "ipython3",
   "version": "3.10.12"
  }
 },
 "nbformat": 4,
 "nbformat_minor": 5
}
