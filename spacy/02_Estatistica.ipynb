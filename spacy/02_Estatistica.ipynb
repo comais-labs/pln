{
 "cells": [
  {
   "cell_type": "markdown",
   "id": "10c9e943-e7e2-4013-9e3e-adecec579163",
   "metadata": {},
   "source": [
    "# Fluxos (pipelines) de processamento  treinados\n",
    "\n",
    "Notes: Agora vamos adicionar alguns poderes especiais ao objeto `nlp`!\n",
    "\n",
    "Nesta lição você irá aprender mais sobre os fluxos (pipelines) de processamento treinados da spaCy."
   ]
  },
  {
   "cell_type": "markdown",
   "id": "aee487d8-8361-45ad-b876-d1195cb3819a",
   "metadata": {},
   "source": [
    " ### O que são fluxos (pipelines) de processamento treinados ?\n",
    "\n",
    "- Modelos que permitem que a spaCy faça previsões de atributos linguísticos _em contexto_:\n",
    "  - Marcadores de classes gramaticais\n",
    "  - Dependências sintáticas\n",
    "  - Entidades nomeadas\n",
    "- São treinados com exemplos de textos rotulados.\n",
    "- Podem ser atualizados com mais exemplos para um ajuste fino das previsões.\n",
    "\n",
    "Notes: Algumas das análises mais interessantes são aquelas específicas a um contexto. Por exemplo: se uma palavra é um verbo ou se uma palavra é o nome de uma pessoa.\n",
    "\n",
    "Os fluxos (pipelines) de processamento possuem modelos estatísticos que permitem que a spaCy faça previsões dentro de um contexto. Isso normalmente inclui marcadores de classes gramaticais, dependências sintáticas e entidades nomeadas.\n",
    "\n",
    "Os fluxos (pipelines) de processamento são treinados em grandes conjuntos de dados com textos de exemplos já rotulados.\n",
    "\n",
    "Os modelos podem ser atualizados com mais exemplos para fazer um ajuste fino nas previsões, como por exemplo, melhorar os resultados em um conjunto de dados específico.\n",
    "\n",
    "Para portugues: https://spacy.io/models/pt\n"
   ]
  },
  {
   "cell_type": "markdown",
   "id": "93bf3e2b-5f87-413f-89e4-30ec976ba4f8",
   "metadata": {},
   "source": [
    "<img src=\"static/package.png\" alt=\"Um pacote com o marcador en_core_web_sm\" width=\"10%\" align=\"center\" />"
   ]
  },
  {
   "cell_type": "code",
   "execution_count": 23,
   "id": "1b321d7c-0b81-4f0a-a25d-03941b6d42a7",
   "metadata": {},
   "outputs": [
    {
     "name": "stdout",
     "output_type": "stream",
     "text": [
      "Defaulting to user installation because normal site-packages is not writeable\n",
      "Collecting pt-core-news-lg==3.7.0\n",
      "  Downloading https://github.com/explosion/spacy-models/releases/download/pt_core_news_lg-3.7.0/pt_core_news_lg-3.7.0-py3-none-any.whl (568.2 MB)\n",
      "\u001b[2K     \u001b[90m━━━━━━━━━━━━━━━━━━━━━━━━━━━━━━━━━━━━━\u001b[0m \u001b[32m568.2/568.2 MB\u001b[0m \u001b[31m392.3 kB/s\u001b[0m eta \u001b[36m0:00:00\u001b[0m00:01\u001b[0m00:11\u001b[0m\n",
      "\u001b[?25hRequirement already satisfied: spacy<3.8.0,>=3.7.0 in /home/roger/.local/lib/python3.10/site-packages (from pt-core-news-lg==3.7.0) (3.7.5)\n",
      "Requirement already satisfied: thinc<8.3.0,>=8.2.2 in /home/roger/.local/lib/python3.10/site-packages (from spacy<3.8.0,>=3.7.0->pt-core-news-lg==3.7.0) (8.2.5)\n",
      "Requirement already satisfied: srsly<3.0.0,>=2.4.3 in /home/roger/.local/lib/python3.10/site-packages (from spacy<3.8.0,>=3.7.0->pt-core-news-lg==3.7.0) (2.4.8)\n",
      "Requirement already satisfied: requests<3.0.0,>=2.13.0 in /usr/local/lib/python3.10/dist-packages (from spacy<3.8.0,>=3.7.0->pt-core-news-lg==3.7.0) (2.31.0)\n",
      "Requirement already satisfied: spacy-legacy<3.1.0,>=3.0.11 in /home/roger/.local/lib/python3.10/site-packages (from spacy<3.8.0,>=3.7.0->pt-core-news-lg==3.7.0) (3.0.12)\n",
      "Requirement already satisfied: langcodes<4.0.0,>=3.2.0 in /home/roger/.local/lib/python3.10/site-packages (from spacy<3.8.0,>=3.7.0->pt-core-news-lg==3.7.0) (3.4.0)\n",
      "Requirement already satisfied: preshed<3.1.0,>=3.0.2 in /home/roger/.local/lib/python3.10/site-packages (from spacy<3.8.0,>=3.7.0->pt-core-news-lg==3.7.0) (3.0.9)\n",
      "Requirement already satisfied: weasel<0.5.0,>=0.1.0 in /home/roger/.local/lib/python3.10/site-packages (from spacy<3.8.0,>=3.7.0->pt-core-news-lg==3.7.0) (0.4.1)\n",
      "Requirement already satisfied: setuptools in /usr/lib/python3/dist-packages (from spacy<3.8.0,>=3.7.0->pt-core-news-lg==3.7.0) (59.6.0)\n",
      "Requirement already satisfied: spacy-loggers<2.0.0,>=1.0.0 in /home/roger/.local/lib/python3.10/site-packages (from spacy<3.8.0,>=3.7.0->pt-core-news-lg==3.7.0) (1.0.5)\n",
      "Requirement already satisfied: pydantic!=1.8,!=1.8.1,<3.0.0,>=1.7.4 in /home/roger/.local/lib/python3.10/site-packages (from spacy<3.8.0,>=3.7.0->pt-core-news-lg==3.7.0) (2.8.2)\n",
      "Requirement already satisfied: packaging>=20.0 in /usr/local/lib/python3.10/dist-packages (from spacy<3.8.0,>=3.7.0->pt-core-news-lg==3.7.0) (23.2)\n",
      "Requirement already satisfied: jinja2 in /usr/lib/python3/dist-packages (from spacy<3.8.0,>=3.7.0->pt-core-news-lg==3.7.0) (3.0.3)\n",
      "Requirement already satisfied: cymem<2.1.0,>=2.0.2 in /home/roger/.local/lib/python3.10/site-packages (from spacy<3.8.0,>=3.7.0->pt-core-news-lg==3.7.0) (2.0.8)\n",
      "Requirement already satisfied: wasabi<1.2.0,>=0.9.1 in /home/roger/.local/lib/python3.10/site-packages (from spacy<3.8.0,>=3.7.0->pt-core-news-lg==3.7.0) (1.1.3)\n",
      "Requirement already satisfied: tqdm<5.0.0,>=4.38.0 in /home/roger/.local/lib/python3.10/site-packages (from spacy<3.8.0,>=3.7.0->pt-core-news-lg==3.7.0) (4.66.5)\n",
      "Requirement already satisfied: numpy>=1.19.0 in /home/roger/.local/lib/python3.10/site-packages (from spacy<3.8.0,>=3.7.0->pt-core-news-lg==3.7.0) (1.26.4)\n",
      "Requirement already satisfied: typer<1.0.0,>=0.3.0 in /home/roger/.local/lib/python3.10/site-packages (from spacy<3.8.0,>=3.7.0->pt-core-news-lg==3.7.0) (0.12.3)\n",
      "Requirement already satisfied: catalogue<2.1.0,>=2.0.6 in /home/roger/.local/lib/python3.10/site-packages (from spacy<3.8.0,>=3.7.0->pt-core-news-lg==3.7.0) (2.0.10)\n",
      "Requirement already satisfied: murmurhash<1.1.0,>=0.28.0 in /home/roger/.local/lib/python3.10/site-packages (from spacy<3.8.0,>=3.7.0->pt-core-news-lg==3.7.0) (1.0.10)\n",
      "Requirement already satisfied: language-data>=1.2 in /home/roger/.local/lib/python3.10/site-packages (from langcodes<4.0.0,>=3.2.0->spacy<3.8.0,>=3.7.0->pt-core-news-lg==3.7.0) (1.2.0)\n",
      "Requirement already satisfied: annotated-types>=0.4.0 in /home/roger/.local/lib/python3.10/site-packages (from pydantic!=1.8,!=1.8.1,<3.0.0,>=1.7.4->spacy<3.8.0,>=3.7.0->pt-core-news-lg==3.7.0) (0.7.0)\n",
      "Requirement already satisfied: pydantic-core==2.20.1 in /home/roger/.local/lib/python3.10/site-packages (from pydantic!=1.8,!=1.8.1,<3.0.0,>=1.7.4->spacy<3.8.0,>=3.7.0->pt-core-news-lg==3.7.0) (2.20.1)\n",
      "Requirement already satisfied: typing-extensions>=4.6.1 in /usr/local/lib/python3.10/dist-packages (from pydantic!=1.8,!=1.8.1,<3.0.0,>=1.7.4->spacy<3.8.0,>=3.7.0->pt-core-news-lg==3.7.0) (4.9.0)\n",
      "Requirement already satisfied: idna<4,>=2.5 in /usr/lib/python3/dist-packages (from requests<3.0.0,>=2.13.0->spacy<3.8.0,>=3.7.0->pt-core-news-lg==3.7.0) (3.3)\n",
      "Requirement already satisfied: charset-normalizer<4,>=2 in /usr/local/lib/python3.10/dist-packages (from requests<3.0.0,>=2.13.0->spacy<3.8.0,>=3.7.0->pt-core-news-lg==3.7.0) (3.3.2)\n",
      "Requirement already satisfied: urllib3<3,>=1.21.1 in /usr/lib/python3/dist-packages (from requests<3.0.0,>=2.13.0->spacy<3.8.0,>=3.7.0->pt-core-news-lg==3.7.0) (1.26.5)\n",
      "Requirement already satisfied: certifi>=2017.4.17 in /home/roger/.local/lib/python3.10/site-packages (from requests<3.0.0,>=2.13.0->spacy<3.8.0,>=3.7.0->pt-core-news-lg==3.7.0) (2024.7.4)\n",
      "Requirement already satisfied: confection<1.0.0,>=0.0.1 in /home/roger/.local/lib/python3.10/site-packages (from thinc<8.3.0,>=8.2.2->spacy<3.8.0,>=3.7.0->pt-core-news-lg==3.7.0) (0.1.5)\n",
      "Requirement already satisfied: blis<0.8.0,>=0.7.8 in /home/roger/.local/lib/python3.10/site-packages (from thinc<8.3.0,>=8.2.2->spacy<3.8.0,>=3.7.0->pt-core-news-lg==3.7.0) (0.7.11)\n",
      "Requirement already satisfied: rich>=10.11.0 in /home/roger/.local/lib/python3.10/site-packages (from typer<1.0.0,>=0.3.0->spacy<3.8.0,>=3.7.0->pt-core-news-lg==3.7.0) (13.7.1)\n",
      "Requirement already satisfied: shellingham>=1.3.0 in /home/roger/.local/lib/python3.10/site-packages (from typer<1.0.0,>=0.3.0->spacy<3.8.0,>=3.7.0->pt-core-news-lg==3.7.0) (1.5.4)\n",
      "Requirement already satisfied: click>=8.0.0 in /usr/lib/python3/dist-packages (from typer<1.0.0,>=0.3.0->spacy<3.8.0,>=3.7.0->pt-core-news-lg==3.7.0) (8.0.3)\n",
      "Requirement already satisfied: smart-open<8.0.0,>=5.2.1 in /home/roger/.local/lib/python3.10/site-packages (from weasel<0.5.0,>=0.1.0->spacy<3.8.0,>=3.7.0->pt-core-news-lg==3.7.0) (7.0.4)\n",
      "Requirement already satisfied: cloudpathlib<1.0.0,>=0.7.0 in /home/roger/.local/lib/python3.10/site-packages (from weasel<0.5.0,>=0.1.0->spacy<3.8.0,>=3.7.0->pt-core-news-lg==3.7.0) (0.18.1)\n",
      "Requirement already satisfied: marisa-trie>=0.7.7 in /home/roger/.local/lib/python3.10/site-packages (from language-data>=1.2->langcodes<4.0.0,>=3.2.0->spacy<3.8.0,>=3.7.0->pt-core-news-lg==3.7.0) (1.2.0)\n",
      "Requirement already satisfied: markdown-it-py>=2.2.0 in /home/roger/.local/lib/python3.10/site-packages (from rich>=10.11.0->typer<1.0.0,>=0.3.0->spacy<3.8.0,>=3.7.0->pt-core-news-lg==3.7.0) (3.0.0)\n",
      "Requirement already satisfied: pygments<3.0.0,>=2.13.0 in /usr/local/lib/python3.10/dist-packages (from rich>=10.11.0->typer<1.0.0,>=0.3.0->spacy<3.8.0,>=3.7.0->pt-core-news-lg==3.7.0) (2.17.2)\n",
      "Requirement already satisfied: wrapt in /home/roger/.local/lib/python3.10/site-packages (from smart-open<8.0.0,>=5.2.1->weasel<0.5.0,>=0.1.0->spacy<3.8.0,>=3.7.0->pt-core-news-lg==3.7.0) (1.16.0)\n",
      "Requirement already satisfied: mdurl~=0.1 in /home/roger/.local/lib/python3.10/site-packages (from markdown-it-py>=2.2.0->rich>=10.11.0->typer<1.0.0,>=0.3.0->spacy<3.8.0,>=3.7.0->pt-core-news-lg==3.7.0) (0.1.2)\n",
      "Installing collected packages: pt-core-news-lg\n",
      "Successfully installed pt-core-news-lg-3.7.0\n"
     ]
    }
   ],
   "source": [
    "!pip install https://github.com/explosion/spacy-models/releases/download/pt_core_news_md-3.7.0/pt_core_news_md-3.7.0-py3-none-any.whl"
   ]
  },
  {
   "cell_type": "code",
   "execution_count": 1,
   "id": "ae1d17d0-a567-4f9c-9ac2-0e75f0b6c6ea",
   "metadata": {},
   "outputs": [],
   "source": [
    "import spacy\n",
    "\n",
    "nlp = spacy.load(\"pt_core_news_md\")"
   ]
  },
  {
   "cell_type": "markdown",
   "id": "dd04a904-c74b-4fb9-98ae-f7c078d7ee23",
   "metadata": {},
   "source": [
    " Pesos binários\n",
    "- Vocabulário\n",
    "- Metadados\n",
    "- Arquivo de configuração\n",
    "\n",
    "Notes: A biblioteca spaCy oferece vários pacotes de fluxos (pipelines) de processamento que você pode baixar usando o comando `spacy download`. Por exemplo, o pacote \"en_core_web_sm\" é um fluxo de processamento pequeno em inglês que foi treinado com texto da internet e possui diversos recursos. \n",
    "\n",
    "O método `spacy.load` carrega o pacote de um fluxo (pipeline) de processamento a partir do seu nome e retorna um objeto `nlp`.\n",
    "\n",
    "O pacote contém os pesos binários que permitem que a spaCy faça as previsões.\n",
    "\n",
    "Também inclui o vocabulário, metadados com informações sobre o fluxo (pipeline) de \n",
    "processamento e um arquivo de configuração utilizado para treiná-lo. Ele informa qual o idioma a ser utilizado e como configurar o fluxo de processamento (pipeline).\n"
   ]
  },
  {
   "cell_type": "markdown",
   "id": "1fab3da1-545b-4bc6-aeb7-766d397e0fc6",
   "metadata": {},
   "source": [
    "# Previsão dos marcadores de classe gramatical"
   ]
  },
  {
   "cell_type": "code",
   "execution_count": 17,
   "id": "22241717-9f80-43a2-a5af-8866a72ed018",
   "metadata": {},
   "outputs": [
    {
     "name": "stdout",
     "output_type": "stream",
     "text": [
      "Ela PRON\n",
      "comeu VERB\n",
      "a ADP\n",
      "pizza NOUN\n",
      "pode VERB\n",
      "acessar VERB\n",
      "pelo ADP\n",
      "email NOUN\n",
      "roger@uft.edu.br PROPN\n"
     ]
    }
   ],
   "source": [
    "# Processar um texto\n",
    "doc = nlp(\"Ela comeu a pizza pode acessar pelo email roger@uft.edu.br\")\n",
    "\n",
    "# Iterar nos tokens\n",
    "for token in doc:\n",
    "    # Imprimir o texto e a classe gramatical prevista\n",
    "    print(token.text, token.pos_)"
   ]
  },
  {
   "cell_type": "code",
   "execution_count": 7,
   "id": "f889fc06-9af1-4626-9cb1-32268f085381",
   "metadata": {},
   "outputs": [
    {
     "data": {
      "text/plain": [
       "'NOUN'"
      ]
     },
     "execution_count": 7,
     "metadata": {},
     "output_type": "execute_result"
    }
   ],
   "source": [
    "doc[-1].pos_"
   ]
  },
  {
   "cell_type": "code",
   "execution_count": 8,
   "id": "a8e37e29-662c-430c-aefd-dd45c36d1acb",
   "metadata": {},
   "outputs": [
    {
     "data": {
      "text/plain": [
       "'adposition'"
      ]
     },
     "execution_count": 8,
     "metadata": {},
     "output_type": "execute_result"
    }
   ],
   "source": [
    "spacy.explain('ADP')"
   ]
  },
  {
   "cell_type": "markdown",
   "id": "0ace6811-3a60-4f5f-8c3e-208d75e828a1",
   "metadata": {},
   "source": [
    "Notes: Vamos dar uma olhada nas previsões do modelo. Neste exemplo, estamos usando a spaCy para prever as classes gramaticais, que são os tipos de palavras em seu contexto.\n",
    "\n",
    "Primeiramente, carregamos o fluxo(pipeline) de processamento pequeno do Inglês no objeto `nlp`.\n",
    "\n",
    "Em seguida, processamos o texto: \"Ela Comeu a Pizza\".\n",
    "\n",
    "Para cada token no doc, podemos imprimir o texto e o atributo `.pos_`, que é a classe gramatical prevista.\n",
    "\n",
    "Na spaCy, atributos que retornam strings normalmente terminam com um sublinhado (underscore) e atributos sem o sublinhado retornam um inteiro.\n",
    "\n",
    "Neste exemplo, o modelo previu corretamente \"ate\" como um verbo e \"pizza\" como um substantivo."
   ]
  },
  {
   "cell_type": "markdown",
   "id": "db2d1bc5-db31-481a-8e23-aecb6bd01edf",
   "metadata": {},
   "source": [
    "# Previsão de termos sintáticos"
   ]
  },
  {
   "cell_type": "code",
   "execution_count": 9,
   "id": "fd174547-a564-43cc-b0c7-cdc2b82bfd21",
   "metadata": {},
   "outputs": [
    {
     "name": "stdout",
     "output_type": "stream",
     "text": [
      "Ela PRON nsubj comeu\n",
      "comeu VERB ROOT comeu\n",
      "a ADP case pizza\n",
      "pizza NOUN obj comeu\n"
     ]
    }
   ],
   "source": [
    "for token in doc:\n",
    "    print(token.text, token.pos_, token.dep_, token.head.text)"
   ]
  },
  {
   "cell_type": "markdown",
   "id": "e4ff3f92-1eb8-47a1-a4cd-9d55f9da2560",
   "metadata": {},
   "source": [
    "Notes: Em adição à previsão de classes gramaticais, podemos prever como as palavras estão relacionadas. Por exemplo, se uma palavra é o sujeito ou o predicado de uma sentença.\n",
    "\n",
    "O atributo `.dep_` retorna o marcador de dependência (ou termo sintático) previsto.\n",
    "\n",
    "O atributo `.head` retorna o índice do token principal. Você pode pensar nele como o \"pai\" ao qual a palavra está conectada."
   ]
  },
  {
   "cell_type": "markdown",
   "id": "17ef539f-87df-4a3d-8c45-cceda965b7aa",
   "metadata": {},
   "source": [
    "# Esquema dos marcadores de dependência ou termos sintáticos"
   ]
  },
  {
   "cell_type": "markdown",
   "id": "54a55384-3390-402f-99bd-d1537ba7d153",
   "metadata": {},
   "source": [
    "<img src=\"static/dep_example_pt.png\" alt=\"Visualização do esquema de dependências para 'She ate the pizza'\" />"
   ]
  },
  {
   "cell_type": "markdown",
   "id": "5a094a8b-108e-4e9d-942d-2c92cd916b99",
   "metadata": {},
   "source": [
    "| Marcador  | Descrição            | Exemplo |\n",
    "| --------- | -------------------- | ------- |\n",
    "| **nsubj** | nominal subject (sujeito simples)    | Ela     |\n",
    "| **dobj**  | direct object (objeto direto)      | pizza   |\n",
    "| **det**   | determiner (adjunto adnominal) | a     |\n"
   ]
  },
  {
   "cell_type": "markdown",
   "id": "56bdfc01-3830-449a-976e-236bbdc48cd3",
   "metadata": {},
   "source": [
    "Notes: Para descrever as dependências sintáticas, a spaCy usa um esquema com marcadores padronizados. Esse é um exemplo dos marcadores mais comuns:\n",
    "\n",
    "O pronome (pronoun) \"Ela\" é um sujeito simples (nominal subject) relacionado com um verbo (verb), neste exemplo \"a\".\n",
    "\n",
    "O substantivo (noun) \"pizza\" é um objeto direto (direct object) relacionado ao verbo (verb) \"comeu\". Ela é \"Comido\" pelo sujeito \"ela\".\n",
    "\n",
    "O adjunto adnominal (determiner) \"a\" está relacionado ao substantivo (noun) \"pizza\"."
   ]
  },
  {
   "cell_type": "markdown",
   "id": "6fa898ce-6448-48a7-b139-9bbfcb68b895",
   "metadata": {},
   "source": [
    "# Previsão de Entidades Nomeadas"
   ]
  },
  {
   "cell_type": "markdown",
   "id": "777c1fce-dbaf-4ee1-a14e-18021721958c",
   "metadata": {},
   "source": [
    "<img src=\"static/ner_example_pt.png\" alt=\"Visualização das entidades nomeadas em 'Apple is looking at buying U.K. startup for $1 billion'\" width=\"80%\" />"
   ]
  },
  {
   "cell_type": "code",
   "execution_count": 20,
   "id": "56da7732-b6e3-42f0-9fd3-39ce64da2608",
   "metadata": {},
   "outputs": [],
   "source": [
    "doc = nlp(\"Ela comeu a pizza pode acessar pelo e-mail roger@uft.edu.br \")"
   ]
  },
  {
   "cell_type": "code",
   "execution_count": 21,
   "id": "58138531-c21a-43d2-86ed-f2e5e43ee449",
   "metadata": {},
   "outputs": [],
   "source": [
    "# Iterar nas entidades previstas\n",
    "for ent in doc.ents:\n",
    "    # Imprimir o texto da entidade e seu marcador\n",
    "    print(ent.text, ent.label_)"
   ]
  },
  {
   "cell_type": "markdown",
   "id": "8c46281a-b146-4a0e-a7a8-40fe2b61f176",
   "metadata": {},
   "source": [
    "Notes: Entidades nomeadas são \"objetos do mundo real\" que possuem um nome. Por exemplo: uma pessoa, uma organização ou um país.\n",
    "\n",
    "A propriedade `doc.ents` permite o acesso às entidades nomedas identificadas (previstas) pelo modelo de reconhecimento de entidades nomeadas\n",
    "\n",
    "Ela retorna um iterável de objetos do tipo `Span`, possibilitando o acesso ao texto e ao marcador através do atributo `.label_`.\n",
    "\n",
    "Neste caso, o modelo previu corretamente \"Apple\" como uma organização, \"Reino Unido\" como uma entidade geopolítica.\n"
   ]
  },
  {
   "cell_type": "markdown",
   "id": "53a6560a-d1c5-4981-818e-3dd9e96762bd",
   "metadata": {},
   "source": [
    "# Dica: o método spacy.explain"
   ]
  },
  {
   "cell_type": "code",
   "execution_count": 12,
   "id": "b1ebb0f3-58c7-4f15-b7f0-23bef78c8d8d",
   "metadata": {},
   "outputs": [
    {
     "data": {
      "text/plain": [
       "'Countries, cities, states'"
      ]
     },
     "execution_count": 12,
     "metadata": {},
     "output_type": "execute_result"
    }
   ],
   "source": [
    "spacy.explain(\"GPE\")"
   ]
  },
  {
   "cell_type": "code",
   "execution_count": 13,
   "id": "b7c840a7-4f67-4f21-b9a8-3ff69ba0a646",
   "metadata": {},
   "outputs": [
    {
     "data": {
      "text/plain": [
       "'noun, proper singular'"
      ]
     },
     "execution_count": 13,
     "metadata": {},
     "output_type": "execute_result"
    }
   ],
   "source": [
    "spacy.explain(\"NNP\")"
   ]
  },
  {
   "cell_type": "code",
   "execution_count": 14,
   "id": "b81ce8ed-39df-4827-9944-846cd11e875a",
   "metadata": {},
   "outputs": [
    {
     "data": {
      "text/plain": [
       "'direct object'"
      ]
     },
     "execution_count": 14,
     "metadata": {},
     "output_type": "execute_result"
    }
   ],
   "source": [
    "spacy.explain(\"dobj\")"
   ]
  },
  {
   "cell_type": "code",
   "execution_count": 15,
   "id": "c24e980a-f5f9-41ec-85c0-d8f6180e78e0",
   "metadata": {},
   "outputs": [
    {
     "data": {
      "text/plain": [
       "'Companies, agencies, institutions, etc.'"
      ]
     },
     "execution_count": 15,
     "metadata": {},
     "output_type": "execute_result"
    }
   ],
   "source": [
    "spacy.explain(\"ORG\")"
   ]
  },
  {
   "cell_type": "code",
   "execution_count": 16,
   "id": "a631ad62-d34b-4a30-ab7c-e743814731ec",
   "metadata": {},
   "outputs": [
    {
     "data": {
      "text/plain": [
       "'Non-GPE locations, mountain ranges, bodies of water'"
      ]
     },
     "execution_count": 16,
     "metadata": {},
     "output_type": "execute_result"
    }
   ],
   "source": [
    "spacy.explain(\"LOC\")"
   ]
  },
  {
   "cell_type": "markdown",
   "id": "654948b7-de85-4e96-bf02-79a6238df781",
   "metadata": {},
   "source": [
    "Notes: Uma dica: Para obter a definição dos marcadores mais comuns, você pode usar a função auxiliar `spacy.explain`.\n",
    "\n",
    "Por exemplo, a sigla \"GPE\" para entidade geopolítica (geopolitical entity) não é muito intuitiva, mas o comando `spacy.explain` irá lhe explicar que se refere a países, cidades e estados.\n",
    "\n",
    "O mesmo vale para marcadores de classes gramaticais e termos sintáticos."
   ]
  },
  {
   "cell_type": "code",
   "execution_count": 22,
   "id": "cee8cdca-468a-4aa5-a56c-144988678a69",
   "metadata": {},
   "outputs": [
    {
     "data": {
      "text/plain": [
       "['tok2vec', 'morphologizer', 'parser', 'lemmatizer', 'attribute_ruler', 'ner']"
      ]
     },
     "execution_count": 22,
     "metadata": {},
     "output_type": "execute_result"
    }
   ],
   "source": [
    "nlp.pipe_names"
   ]
  },
  {
   "cell_type": "code",
   "execution_count": null,
   "id": "6f2437cf-1583-4c8e-9a26-8dfc34bd349d",
   "metadata": {},
   "outputs": [],
   "source": []
  }
 ],
 "metadata": {
  "kernelspec": {
   "display_name": "Python 3 (ipykernel)",
   "language": "python",
   "name": "python3"
  },
  "language_info": {
   "codemirror_mode": {
    "name": "ipython",
    "version": 3
   },
   "file_extension": ".py",
   "mimetype": "text/x-python",
   "name": "python",
   "nbconvert_exporter": "python",
   "pygments_lexer": "ipython3",
   "version": "3.10.12"
  }
 },
 "nbformat": 4,
 "nbformat_minor": 5
}
